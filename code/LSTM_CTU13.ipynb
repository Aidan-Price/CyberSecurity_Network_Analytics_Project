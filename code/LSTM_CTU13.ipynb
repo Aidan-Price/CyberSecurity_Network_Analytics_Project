{
  "nbformat": 4,
  "nbformat_minor": 0,
  "metadata": {
    "colab": {
      "provenance": [],
      "machine_shape": "hm"
    },
    "kernelspec": {
      "name": "python3",
      "display_name": "Python 3"
    },
    "language_info": {
      "name": "python"
    },
    "gpuClass": "premium",
    "accelerator": "GPU"
  },
  "cells": [
    {
      "cell_type": "markdown",
      "source": [
        "## LSTM - preliminary results"
      ],
      "metadata": {
        "id": "vfWuyS0behlF"
      }
    },
    {
      "cell_type": "markdown",
      "source": [
        "#### Import libraries"
      ],
      "metadata": {
        "id": "vzKClMkuejq5"
      }
    },
    {
      "cell_type": "code",
      "source": [
        "%%capture\n",
        "import pandas as pd\n",
        "import numpy as np\n",
        "from sklearn.model_selection import train_test_split\n",
        "from sklearn.metrics import precision_recall_fscore_support as score\n",
        "from sklearn.metrics import roc_auc_score, precision_recall_curve, accuracy_score\n",
        "from tensorflow import keras\n",
        "from tensorflow.keras import layers\n",
        "import seaborn as sns"
      ],
      "metadata": {
        "id": "ADMuuxWgejNf"
      },
      "execution_count": 5,
      "outputs": []
    },
    {
      "cell_type": "markdown",
      "source": [
        "### Import data and split into train/validation/test sets\n",
        "For this initial report, we used a smaller subset of the data - scenarios 5, 6, 7, 11, 12"
      ],
      "metadata": {
        "id": "uFEeuytefeyX"
      }
    },
    {
      "cell_type": "code",
      "source": [
        "# directory name and list of scenarios\n",
        "directory = '/content/'\n",
        "scenarios = ['05', '06', '07', '11', '12']\n",
        "\n",
        "# empty list and DataFrame to capture statistics for each scenario\n",
        "results = [] \n",
        "precision_recall_all = pd.DataFrame()\n",
        "\n",
        "# iterate over scenarios to build, train, and evaluate LSTM model\n",
        "for scenario in scenarios:\n",
        "\n",
        "    # load the scenario\n",
        "    data = pd.read_csv(directory + scenario + '.txt', header=None)\n",
        "\n",
        "    # split into input (X) and output (y) variables\n",
        "    X = data.iloc[:,1:]\n",
        "    y = data.iloc[:,0]\n",
        "\n",
        "    # split into training (80%), validation (10%), and test (10%) sets\n",
        "    rand_seed = 123\n",
        "    X_train, X_rem, y_train, y_rem = train_test_split(X, y, train_size = 0.8,\n",
        "                                                      random_state = rand_seed,\n",
        "                                                      stratify = y)\n",
        "    X_valid, X_test, y_valid, y_test = train_test_split(X_rem, y_rem, \n",
        "                                                        train_size = 0.5,\n",
        "                                                        random_state = rand_seed,\n",
        "                                                        stratify = y_rem)\n",
        "    \n",
        "    # build LSTM model\n",
        "\n",
        "    # Input for variable-length sequences of integers\n",
        "    inputs = keras.Input(shape = (None, ), dtype = \"int32\")\n",
        "    # Embed each integer in a 28,128-dimensional vector\n",
        "    x = layers.Embedding(X.shape[1], 128)(inputs)\n",
        "    # Add 2 bidirectional LSTMs\n",
        "    x = layers.Bidirectional(layers.LSTM(64, return_sequences = True))(x)\n",
        "    x = layers.Bidirectional(layers.LSTM(64))(x)\n",
        "    # Add a classifier\n",
        "    outputs = layers.Dense(1, activation = \"sigmoid\")(x)\n",
        "    model = keras.Model(inputs, outputs)\n",
        "\n",
        "    # compile and train model\n",
        "    model.compile(\"adam\", \"binary_crossentropy\", metrics = [\"accuracy\"])\n",
        "    model.fit(X_train, y_train, batch_size = 32, epochs = 2, \n",
        "              validation_data = (X_valid, y_valid))\n",
        "    \n",
        "    # make predictions with model (.50 threshold)\n",
        "    predictions = (model.predict(X_test) > 0.5).astype(int)\n",
        "\n",
        "    # calculate metrics for each model\n",
        "    precision, recall, fscore, support = score(y_test, predictions, \n",
        "                                               average = 'binary')\n",
        "    auc = roc_auc_score(y_test, predictions)\n",
        "    accuracy = accuracy_score(y_test, predictions)\n",
        "    \n",
        "    # append metrics to results\n",
        "    results.append(\n",
        "        {\n",
        "          'Scenario': scenario,\n",
        "          'Accuracy': accuracy,\n",
        "          'Precision': precision,\n",
        "          'Recall': recall,\n",
        "          'F1 Score': fscore,\n",
        "          'AUC': auc\n",
        "        })\n",
        "    \n",
        "    # write data for precision recall curves to csv\n",
        "    cols = ['precision', 'recall', 'thresholds']\n",
        "    precision_recall = precision_recall_curve(y_test, model.predict(X_test))\n",
        "    precision_recall = pd.DataFrame(precision_recall, index = cols).transpose()\n",
        "    precision_recall['scenario'] = scenario\n",
        "    precision_recall_all = precision_recall_all.append(precision_recall)\n",
        "\n",
        "    print(\"scenario\", scenario, \"complete\")"
      ],
      "metadata": {
        "id": "gA90_uDjwk0U",
        "colab": {
          "base_uri": "https://localhost:8080/"
        },
        "outputId": "e4361ea7-7673-49c3-f1a8-26b68ce02d38"
      },
      "execution_count": 4,
      "outputs": [
        {
          "output_type": "stream",
          "name": "stdout",
          "text": [
            "Epoch 1/2\n",
            "3246/3246 [==============================] - 57s 15ms/step - loss: 0.0196 - accuracy: 0.9960 - val_loss: 0.0101 - val_accuracy: 0.9984\n",
            "Epoch 2/2\n",
            "3246/3246 [==============================] - 36s 11ms/step - loss: 0.0074 - accuracy: 0.9985 - val_loss: 0.0056 - val_accuracy: 0.9985\n",
            "406/406 [==============================] - 3s 4ms/step\n",
            "406/406 [==============================] - 2s 4ms/step\n",
            "scenario 05 complete\n",
            "Epoch 1/2\n",
            "2999/2999 [==============================] - 56s 16ms/step - loss: 0.0128 - accuracy: 0.9972 - val_loss: 0.0020 - val_accuracy: 0.9994\n",
            "Epoch 2/2\n",
            "2999/2999 [==============================] - 35s 12ms/step - loss: 0.0029 - accuracy: 0.9992 - val_loss: 0.0016 - val_accuracy: 0.9994\n",
            "375/375 [==============================] - 3s 4ms/step\n",
            "375/375 [==============================] - 2s 4ms/step\n",
            "scenario 06 complete\n",
            "Epoch 1/2\n",
            "2852/2852 [==============================] - 53s 16ms/step - loss: 0.0068 - accuracy: 0.9993 - val_loss: 0.0051 - val_accuracy: 0.9994\n",
            "Epoch 2/2\n",
            "2852/2852 [==============================] - 32s 11ms/step - loss: 0.0048 - accuracy: 0.9994 - val_loss: 0.0055 - val_accuracy: 0.9994\n",
            "357/357 [==============================] - 3s 4ms/step\n",
            " 27/357 [=>............................] - ETA: 1s"
          ]
        },
        {
          "output_type": "stream",
          "name": "stderr",
          "text": [
            "/usr/local/lib/python3.8/dist-packages/sklearn/metrics/_classification.py:1344: UndefinedMetricWarning: Precision and F-score are ill-defined and being set to 0.0 due to no predicted samples. Use `zero_division` parameter to control this behavior.\n",
            "  _warn_prf(average, modifier, msg_start, len(result))\n"
          ]
        },
        {
          "output_type": "stream",
          "name": "stdout",
          "text": [
            "357/357 [==============================] - 1s 4ms/step\n",
            "scenario 07 complete\n",
            "Epoch 1/2\n",
            "2682/2682 [==============================] - 52s 17ms/step - loss: 0.0160 - accuracy: 0.9958 - val_loss: 0.0012 - val_accuracy: 0.9999\n",
            "Epoch 2/2\n",
            "2682/2682 [==============================] - 29s 11ms/step - loss: 0.0033 - accuracy: 0.9994 - val_loss: 0.0014 - val_accuracy: 0.9999\n",
            "336/336 [==============================] - 3s 4ms/step\n",
            "336/336 [==============================] - 1s 4ms/step\n",
            "scenario 11 complete\n",
            "Epoch 1/2\n",
            "8137/8137 [==============================] - 113s 13ms/step - loss: 0.0239 - accuracy: 0.9937 - val_loss: 0.0168 - val_accuracy: 0.9952\n",
            "Epoch 2/2\n",
            "8137/8137 [==============================] - 87s 11ms/step - loss: 0.0166 - accuracy: 0.9951 - val_loss: 0.0130 - val_accuracy: 0.9964\n",
            "1018/1018 [==============================] - 6s 4ms/step\n",
            "1018/1018 [==============================] - 4s 4ms/step\n",
            "scenario 12 complete\n"
          ]
        }
      ]
    },
    {
      "cell_type": "code",
      "source": [
        "# view results\n",
        "results_df = pd.DataFrame(results)\n",
        "results_df"
      ],
      "metadata": {
        "colab": {
          "base_uri": "https://localhost:8080/",
          "height": 206
        },
        "id": "GwoUrfo1a7QF",
        "outputId": "e3d0e6e7-3027-4ca9-b071-b11b9eaf9f41"
      },
      "execution_count": 7,
      "outputs": [
        {
          "output_type": "execute_result",
          "data": {
            "text/plain": [
              "  Scenario  Accuracy  Precision    Recall  F1 Score       AUC\n",
              "0       05  0.998999   0.975309  0.877778  0.923977  0.938811\n",
              "1       06  0.999833   0.985915  0.985915  0.985915  0.992916\n",
              "2       07  0.999474   0.000000  0.000000  0.000000  0.500000\n",
              "3       11  0.999814   1.000000  0.997552  0.998775  0.998776\n",
              "4       12  0.996221   0.856061  0.520737  0.647564  0.760075"
            ],
            "text/html": [
              "\n",
              "  <div id=\"df-edb860a6-8dbb-4371-a645-9acb0922b81b\">\n",
              "    <div class=\"colab-df-container\">\n",
              "      <div>\n",
              "<style scoped>\n",
              "    .dataframe tbody tr th:only-of-type {\n",
              "        vertical-align: middle;\n",
              "    }\n",
              "\n",
              "    .dataframe tbody tr th {\n",
              "        vertical-align: top;\n",
              "    }\n",
              "\n",
              "    .dataframe thead th {\n",
              "        text-align: right;\n",
              "    }\n",
              "</style>\n",
              "<table border=\"1\" class=\"dataframe\">\n",
              "  <thead>\n",
              "    <tr style=\"text-align: right;\">\n",
              "      <th></th>\n",
              "      <th>Scenario</th>\n",
              "      <th>Accuracy</th>\n",
              "      <th>Precision</th>\n",
              "      <th>Recall</th>\n",
              "      <th>F1 Score</th>\n",
              "      <th>AUC</th>\n",
              "    </tr>\n",
              "  </thead>\n",
              "  <tbody>\n",
              "    <tr>\n",
              "      <th>0</th>\n",
              "      <td>05</td>\n",
              "      <td>0.998999</td>\n",
              "      <td>0.975309</td>\n",
              "      <td>0.877778</td>\n",
              "      <td>0.923977</td>\n",
              "      <td>0.938811</td>\n",
              "    </tr>\n",
              "    <tr>\n",
              "      <th>1</th>\n",
              "      <td>06</td>\n",
              "      <td>0.999833</td>\n",
              "      <td>0.985915</td>\n",
              "      <td>0.985915</td>\n",
              "      <td>0.985915</td>\n",
              "      <td>0.992916</td>\n",
              "    </tr>\n",
              "    <tr>\n",
              "      <th>2</th>\n",
              "      <td>07</td>\n",
              "      <td>0.999474</td>\n",
              "      <td>0.000000</td>\n",
              "      <td>0.000000</td>\n",
              "      <td>0.000000</td>\n",
              "      <td>0.500000</td>\n",
              "    </tr>\n",
              "    <tr>\n",
              "      <th>3</th>\n",
              "      <td>11</td>\n",
              "      <td>0.999814</td>\n",
              "      <td>1.000000</td>\n",
              "      <td>0.997552</td>\n",
              "      <td>0.998775</td>\n",
              "      <td>0.998776</td>\n",
              "    </tr>\n",
              "    <tr>\n",
              "      <th>4</th>\n",
              "      <td>12</td>\n",
              "      <td>0.996221</td>\n",
              "      <td>0.856061</td>\n",
              "      <td>0.520737</td>\n",
              "      <td>0.647564</td>\n",
              "      <td>0.760075</td>\n",
              "    </tr>\n",
              "  </tbody>\n",
              "</table>\n",
              "</div>\n",
              "      <button class=\"colab-df-convert\" onclick=\"convertToInteractive('df-edb860a6-8dbb-4371-a645-9acb0922b81b')\"\n",
              "              title=\"Convert this dataframe to an interactive table.\"\n",
              "              style=\"display:none;\">\n",
              "        \n",
              "  <svg xmlns=\"http://www.w3.org/2000/svg\" height=\"24px\"viewBox=\"0 0 24 24\"\n",
              "       width=\"24px\">\n",
              "    <path d=\"M0 0h24v24H0V0z\" fill=\"none\"/>\n",
              "    <path d=\"M18.56 5.44l.94 2.06.94-2.06 2.06-.94-2.06-.94-.94-2.06-.94 2.06-2.06.94zm-11 1L8.5 8.5l.94-2.06 2.06-.94-2.06-.94L8.5 2.5l-.94 2.06-2.06.94zm10 10l.94 2.06.94-2.06 2.06-.94-2.06-.94-.94-2.06-.94 2.06-2.06.94z\"/><path d=\"M17.41 7.96l-1.37-1.37c-.4-.4-.92-.59-1.43-.59-.52 0-1.04.2-1.43.59L10.3 9.45l-7.72 7.72c-.78.78-.78 2.05 0 2.83L4 21.41c.39.39.9.59 1.41.59.51 0 1.02-.2 1.41-.59l7.78-7.78 2.81-2.81c.8-.78.8-2.07 0-2.86zM5.41 20L4 18.59l7.72-7.72 1.47 1.35L5.41 20z\"/>\n",
              "  </svg>\n",
              "      </button>\n",
              "      \n",
              "  <style>\n",
              "    .colab-df-container {\n",
              "      display:flex;\n",
              "      flex-wrap:wrap;\n",
              "      gap: 12px;\n",
              "    }\n",
              "\n",
              "    .colab-df-convert {\n",
              "      background-color: #E8F0FE;\n",
              "      border: none;\n",
              "      border-radius: 50%;\n",
              "      cursor: pointer;\n",
              "      display: none;\n",
              "      fill: #1967D2;\n",
              "      height: 32px;\n",
              "      padding: 0 0 0 0;\n",
              "      width: 32px;\n",
              "    }\n",
              "\n",
              "    .colab-df-convert:hover {\n",
              "      background-color: #E2EBFA;\n",
              "      box-shadow: 0px 1px 2px rgba(60, 64, 67, 0.3), 0px 1px 3px 1px rgba(60, 64, 67, 0.15);\n",
              "      fill: #174EA6;\n",
              "    }\n",
              "\n",
              "    [theme=dark] .colab-df-convert {\n",
              "      background-color: #3B4455;\n",
              "      fill: #D2E3FC;\n",
              "    }\n",
              "\n",
              "    [theme=dark] .colab-df-convert:hover {\n",
              "      background-color: #434B5C;\n",
              "      box-shadow: 0px 1px 3px 1px rgba(0, 0, 0, 0.15);\n",
              "      filter: drop-shadow(0px 1px 2px rgba(0, 0, 0, 0.3));\n",
              "      fill: #FFFFFF;\n",
              "    }\n",
              "  </style>\n",
              "\n",
              "      <script>\n",
              "        const buttonEl =\n",
              "          document.querySelector('#df-edb860a6-8dbb-4371-a645-9acb0922b81b button.colab-df-convert');\n",
              "        buttonEl.style.display =\n",
              "          google.colab.kernel.accessAllowed ? 'block' : 'none';\n",
              "\n",
              "        async function convertToInteractive(key) {\n",
              "          const element = document.querySelector('#df-edb860a6-8dbb-4371-a645-9acb0922b81b');\n",
              "          const dataTable =\n",
              "            await google.colab.kernel.invokeFunction('convertToInteractive',\n",
              "                                                     [key], {});\n",
              "          if (!dataTable) return;\n",
              "\n",
              "          const docLinkHtml = 'Like what you see? Visit the ' +\n",
              "            '<a target=\"_blank\" href=https://colab.research.google.com/notebooks/data_table.ipynb>data table notebook</a>'\n",
              "            + ' to learn more about interactive tables.';\n",
              "          element.innerHTML = '';\n",
              "          dataTable['output_type'] = 'display_data';\n",
              "          await google.colab.output.renderOutput(dataTable, element);\n",
              "          const docLink = document.createElement('div');\n",
              "          docLink.innerHTML = docLinkHtml;\n",
              "          element.appendChild(docLink);\n",
              "        }\n",
              "      </script>\n",
              "    </div>\n",
              "  </div>\n",
              "  "
            ]
          },
          "metadata": {},
          "execution_count": 7
        }
      ]
    },
    {
      "cell_type": "code",
      "source": [
        "# print results and precision_recall to csv\n",
        "results_df.to_csv('results.csv') \n",
        "precision_recall_all.to_csv('precision_recall.csv')"
      ],
      "metadata": {
        "id": "6HngD6gPX5c0"
      },
      "execution_count": 8,
      "outputs": []
    },
    {
      "cell_type": "code",
      "source": [
        "# precision recall graphs for each scenario\n",
        "graph = sns.FacetGrid(precision_recall_all, col = 'scenario', col_wrap = 3)\n",
        "graph.map(sns.lineplot, 'recall', 'precision')"
      ],
      "metadata": {
        "id": "WHHqHVAS5ibw",
        "colab": {
          "base_uri": "https://localhost:8080/",
          "height": 458
        },
        "outputId": "bf5a8e69-a9d4-4c8c-f13f-451b5e77c084"
      },
      "execution_count": 25,
      "outputs": [
        {
          "output_type": "execute_result",
          "data": {
            "text/plain": [
              "<seaborn.axisgrid.FacetGrid at 0x7fc8817f4850>"
            ]
          },
          "metadata": {},
          "execution_count": 25
        },
        {
          "output_type": "display_data",
          "data": {
            "text/plain": [
              "<Figure size 648x432 with 5 Axes>"
            ],
            "image/png": "[encoded data removed]"
          },
          "metadata": {
            "needs_background": "light"
          }
        }
      ]
    }
  ]
}
