{
  "nbformat": 4,
  "nbformat_minor": 0,
  "metadata": {
    "colab": {
      "provenance": []
    },
    "kernelspec": {
      "name": "python3",
      "display_name": "Python 3"
    },
    "language_info": {
      "name": "python"
    }
  },
  "cells": [
    {
      "cell_type": "markdown",
      "source": [
        "# Neural Network Preliminary Code"
      ],
      "metadata": {
        "id": "VfrJKvtxq6zB"
      }
    },
    {
      "cell_type": "markdown",
      "source": [
        "## Import Libraries"
      ],
      "metadata": {
        "id": "KeYsRk63rYWr"
      }
    },
    {
      "cell_type": "code",
      "execution_count": 11,
      "metadata": {
        "id": "aB40XB54qwk4"
      },
      "outputs": [],
      "source": [
        "%%capture\n",
        "import pandas as pd\n",
        "import numpy as np\n",
        "import math\n",
        "from sklearn.preprocessing import StandardScaler\n",
        "from sklearn.model_selection import train_test_split\n",
        "from sklearn.metrics import precision_recall_fscore_support as score\n",
        "from sklearn.metrics import roc_auc_score, precision_recall_curve, accuracy_score\n",
        "from sklearn.metrics import classification_report, precision_recall_curve, roc_curve, PrecisionRecallDisplay, RocCurveDisplay, auc\n",
        "from tensorflow import keras\n",
        "from tensorflow.keras import layers\n",
        "from tensorflow.keras.metrics import AUC\n",
        "from keras.models import Sequential\n",
        "from keras.layers import Dense, Dropout, BatchNormalization, Embedding\n",
        "\n",
        "import os\n",
        "import glob\n",
        "import fileinput\n",
        "import matplotlib.pyplot as plt\n",
        "import seaborn as sns"
      ]
    },
    {
      "cell_type": "markdown",
      "source": [
        "## Import data, split into training/validation/testing sets, and process model"
      ],
      "metadata": {
        "id": "n4o-4MKvrkP7"
      }
    },
    {
      "cell_type": "code",
      "source": [
        "# list of scenarios\n",
        "scenarios = ['5.txt', '6.txt', '7.txt', '11.txt', '12.txt']\n",
        "\n",
        "# empty list to capture statistics for each scenario\n",
        "results = [] \n",
        "precision_recall_all = pd.DataFrame()"
      ],
      "metadata": {
        "id": "z9o-myjiQo3S"
      },
      "execution_count": 12,
      "outputs": []
    },
    {
      "cell_type": "code",
      "source": [
        "from keras.engine.input_layer import Input\n",
        "# iterate over scenarios to build, train, and evaluate LSTM model\n",
        "for filename in scenarios:\n",
        "\n",
        "    scenario_name = filename.replace(\".txt\", \"\")\n",
        "    # load the dataset\n",
        "    scenario = np.loadtxt('/content/' + filename, delimiter=',')\n",
        "\n",
        "    # split into input (X) and output (y) variables\n",
        "    X = scenario[:,1:]\n",
        "    y = scenario[:,0]\n",
        "\n",
        "    # split into training (80%), validation (10%), and test (10%) sets\n",
        "    rand_seed = 123\n",
        "    X_train, X_rem, y_train, y_rem = train_test_split(X, y, train_size = 0.8,\n",
        "                                                      random_state = rand_seed,\n",
        "                                                      stratify = y)\n",
        "    X_valid, X_test, y_valid, y_test = train_test_split(X_rem, y_rem, \n",
        "                                                        train_size = 0.5,\n",
        "                                                        random_state = rand_seed,\n",
        "                                                        stratify = y_rem)\n",
        "    \n",
        "    # build NN model\n",
        "  \n",
        "    model = Sequential()\n",
        "    model.add(Dense(12, input_dim = 28, activation = 'relu'))\n",
        "    model.add(Dropout(0.1))\n",
        "    model.add(Dense(8, activation = 'relu'))\n",
        "    model.add(Dropout(0.1))\n",
        "    model.add(Dense(8, activation='relu'))\n",
        "    model.add(Dropout(0.1))\n",
        "    model.add(Dense(1, activation = 'sigmoid'))\n",
        "\n",
        "    #compile and fit the model\n",
        "    model.compile(loss='binary_crossentropy', optimizer = 'adam',\n",
        "                  metrics=['accuracy'])\n",
        "    model.fit(X_train, y_train, batch_size = 32, epochs = 3,\n",
        "              validation_data=(X_valid, y_valid))\n",
        "    \n",
        "    #make predictions with model and print classification report\n",
        "    predictions = (model.predict(X_test) > .5).astype(int)\n",
        "    print(filename)\n",
        "    print(classification_report(y_test, predictions))\n",
        "\n",
        "    # calculate metrics for each model\n",
        "    precision, recall, fscore, support = score(y_test, predictions, \n",
        "                                               average = 'binary')\n",
        "    auc = roc_auc_score(y_test, predictions)\n",
        "    accuracy = accuracy_score(y_test, predictions)\n",
        "\n",
        "\n",
        "    # append metrics to results\n",
        "    results.append(\n",
        "        {\n",
        "          'Scenario': scenario_name,\n",
        "          'Precision': precision,\n",
        "          'Recall': recall,\n",
        "          'F1 Score': fscore,\n",
        "          'AUC': auc\n",
        "        })\n",
        "    \n",
        "    # write data for precision recall curves to csv\n",
        "    cols = ['precision', 'recall', 'thresholds']\n",
        "    precision_recall = precision_recall_curve(y_test, model.predict(X_test))\n",
        "    precision_recall = pd.DataFrame(precision_recall, index = cols).transpose()\n",
        "    precision_recall['scenario'] = filename\n",
        "    precision_recall_all = precision_recall_all.append(precision_recall)\n",
        "\n",
        "    print(\"scenario\", filename, \"complete\")"
      ],
      "metadata": {
        "id": "ASiHq_OtroyK",
        "colab": {
          "base_uri": "https://localhost:8080/"
        },
        "outputId": "4c5f03bf-4aab-42e2-ccf3-67899bc7c987"
      },
      "execution_count": 13,
      "outputs": [
        {
          "output_type": "stream",
          "name": "stdout",
          "text": [
            "Epoch 1/3\n",
            "3246/3246 [==============================] - 11s 3ms/step - loss: 9341273088.0000 - accuracy: 0.9539 - val_loss: 725092.8750 - val_accuracy: 0.9931\n",
            "Epoch 2/3\n",
            "3246/3246 [==============================] - 10s 3ms/step - loss: 230269920.0000 - accuracy: 0.9869 - val_loss: 193261.7344 - val_accuracy: 0.9931\n",
            "Epoch 3/3\n",
            "3246/3246 [==============================] - 10s 3ms/step - loss: 31428744.0000 - accuracy: 0.9890 - val_loss: 161535.2969 - val_accuracy: 0.9931\n",
            "406/406 [==============================] - 1s 2ms/step\n",
            "5.txt\n",
            "              precision    recall  f1-score   support\n",
            "\n",
            "         0.0       0.99      1.00      1.00     12894\n",
            "         1.0       0.00      0.00      0.00        90\n",
            "\n",
            "    accuracy                           0.99     12984\n",
            "   macro avg       0.50      0.50      0.50     12984\n",
            "weighted avg       0.99      0.99      0.99     12984\n",
            "\n",
            " 34/406 [=>............................] - ETA: 0s "
          ]
        },
        {
          "output_type": "stream",
          "name": "stderr",
          "text": [
            "/usr/local/lib/python3.8/dist-packages/sklearn/metrics/_classification.py:1344: UndefinedMetricWarning: Precision and F-score are ill-defined and being set to 0.0 in labels with no predicted samples. Use `zero_division` parameter to control this behavior.\n",
            "  _warn_prf(average, modifier, msg_start, len(result))\n",
            "/usr/local/lib/python3.8/dist-packages/sklearn/metrics/_classification.py:1344: UndefinedMetricWarning: Precision and F-score are ill-defined and being set to 0.0 in labels with no predicted samples. Use `zero_division` parameter to control this behavior.\n",
            "  _warn_prf(average, modifier, msg_start, len(result))\n",
            "/usr/local/lib/python3.8/dist-packages/sklearn/metrics/_classification.py:1344: UndefinedMetricWarning: Precision and F-score are ill-defined and being set to 0.0 in labels with no predicted samples. Use `zero_division` parameter to control this behavior.\n",
            "  _warn_prf(average, modifier, msg_start, len(result))\n",
            "/usr/local/lib/python3.8/dist-packages/sklearn/metrics/_classification.py:1344: UndefinedMetricWarning: Precision and F-score are ill-defined and being set to 0.0 due to no predicted samples. Use `zero_division` parameter to control this behavior.\n",
            "  _warn_prf(average, modifier, msg_start, len(result))\n"
          ]
        },
        {
          "output_type": "stream",
          "name": "stdout",
          "text": [
            "406/406 [==============================] - 1s 2ms/step\n",
            "scenario 5.txt complete\n",
            "Epoch 1/3\n",
            "13973/13973 [==============================] - 40s 3ms/step - loss: 1702627840.0000 - accuracy: 0.9789 - val_loss: 1052968.7500 - val_accuracy: 0.9917\n",
            "Epoch 2/3\n",
            "13973/13973 [==============================] - 39s 3ms/step - loss: 7849540.0000 - accuracy: 0.9906 - val_loss: 0.0473 - val_accuracy: 0.9917\n",
            "Epoch 3/3\n",
            "13973/13973 [==============================] - 41s 3ms/step - loss: 314435.2500 - accuracy: 0.9916 - val_loss: 0.0480 - val_accuracy: 0.9917\n",
            "1747/1747 [==============================] - 4s 2ms/step\n",
            "6.txt\n",
            "              precision    recall  f1-score   support\n",
            "\n",
            "         0.0       0.99      1.00      1.00     55429\n",
            "         1.0       0.00      0.00      0.00       463\n",
            "\n",
            "    accuracy                           0.99     55892\n",
            "   macro avg       0.50      0.50      0.50     55892\n",
            "weighted avg       0.98      0.99      0.99     55892\n",
            "\n",
            "   1/1747 [..............................] - ETA: 51s"
          ]
        },
        {
          "output_type": "stream",
          "name": "stderr",
          "text": [
            "/usr/local/lib/python3.8/dist-packages/sklearn/metrics/_classification.py:1344: UndefinedMetricWarning: Precision and F-score are ill-defined and being set to 0.0 in labels with no predicted samples. Use `zero_division` parameter to control this behavior.\n",
            "  _warn_prf(average, modifier, msg_start, len(result))\n",
            "/usr/local/lib/python3.8/dist-packages/sklearn/metrics/_classification.py:1344: UndefinedMetricWarning: Precision and F-score are ill-defined and being set to 0.0 in labels with no predicted samples. Use `zero_division` parameter to control this behavior.\n",
            "  _warn_prf(average, modifier, msg_start, len(result))\n",
            "/usr/local/lib/python3.8/dist-packages/sklearn/metrics/_classification.py:1344: UndefinedMetricWarning: Precision and F-score are ill-defined and being set to 0.0 in labels with no predicted samples. Use `zero_division` parameter to control this behavior.\n",
            "  _warn_prf(average, modifier, msg_start, len(result))\n",
            "/usr/local/lib/python3.8/dist-packages/sklearn/metrics/_classification.py:1344: UndefinedMetricWarning: Precision and F-score are ill-defined and being set to 0.0 due to no predicted samples. Use `zero_division` parameter to control this behavior.\n",
            "  _warn_prf(average, modifier, msg_start, len(result))\n"
          ]
        },
        {
          "output_type": "stream",
          "name": "stdout",
          "text": [
            "1747/1747 [==============================] - 3s 2ms/step\n",
            "scenario 6.txt complete\n",
            "Epoch 1/3\n",
            "2852/2852 [==============================] - 10s 3ms/step - loss: 1336618752.0000 - accuracy: 0.9629 - val_loss: 19683.3242 - val_accuracy: 0.9994\n",
            "Epoch 2/3\n",
            "2852/2852 [==============================] - 9s 3ms/step - loss: 48527452.0000 - accuracy: 0.9967 - val_loss: 11113.4492 - val_accuracy: 0.9994\n",
            "Epoch 3/3\n",
            "2852/2852 [==============================] - 8s 3ms/step - loss: 26161920.0000 - accuracy: 0.9987 - val_loss: 9957.9023 - val_accuracy: 0.9994\n",
            "357/357 [==============================] - 1s 2ms/step\n",
            "7.txt\n",
            "              precision    recall  f1-score   support\n",
            "\n",
            "         0.0       1.00      1.00      1.00     11402\n",
            "         1.0       0.00      0.00      0.00         6\n",
            "\n",
            "    accuracy                           1.00     11408\n",
            "   macro avg       0.50      0.50      0.50     11408\n",
            "weighted avg       1.00      1.00      1.00     11408\n",
            "\n",
            " 32/357 [=>............................] - ETA: 0s"
          ]
        },
        {
          "output_type": "stream",
          "name": "stderr",
          "text": [
            "/usr/local/lib/python3.8/dist-packages/sklearn/metrics/_classification.py:1344: UndefinedMetricWarning: Precision and F-score are ill-defined and being set to 0.0 in labels with no predicted samples. Use `zero_division` parameter to control this behavior.\n",
            "  _warn_prf(average, modifier, msg_start, len(result))\n",
            "/usr/local/lib/python3.8/dist-packages/sklearn/metrics/_classification.py:1344: UndefinedMetricWarning: Precision and F-score are ill-defined and being set to 0.0 in labels with no predicted samples. Use `zero_division` parameter to control this behavior.\n",
            "  _warn_prf(average, modifier, msg_start, len(result))\n",
            "/usr/local/lib/python3.8/dist-packages/sklearn/metrics/_classification.py:1344: UndefinedMetricWarning: Precision and F-score are ill-defined and being set to 0.0 in labels with no predicted samples. Use `zero_division` parameter to control this behavior.\n",
            "  _warn_prf(average, modifier, msg_start, len(result))\n",
            "/usr/local/lib/python3.8/dist-packages/sklearn/metrics/_classification.py:1344: UndefinedMetricWarning: Precision and F-score are ill-defined and being set to 0.0 due to no predicted samples. Use `zero_division` parameter to control this behavior.\n",
            "  _warn_prf(average, modifier, msg_start, len(result))\n"
          ]
        },
        {
          "output_type": "stream",
          "name": "stdout",
          "text": [
            "357/357 [==============================] - 1s 2ms/step\n",
            "scenario 7.txt complete\n",
            "Epoch 1/3\n",
            "2682/2682 [==============================] - 10s 3ms/step - loss: 3147241728.0000 - accuracy: 0.8556 - val_loss: 192313.1719 - val_accuracy: 0.9239\n",
            "Epoch 2/3\n",
            "2682/2682 [==============================] - 8s 3ms/step - loss: 70288432.0000 - accuracy: 0.9103 - val_loss: 148646.4062 - val_accuracy: 0.9239\n",
            "Epoch 3/3\n",
            "2682/2682 [==============================] - 7s 3ms/step - loss: 8904321.0000 - accuracy: 0.9135 - val_loss: 164868.3750 - val_accuracy: 0.9239\n",
            "336/336 [==============================] - 1s 2ms/step\n",
            "11.txt\n",
            "              precision    recall  f1-score   support\n",
            "\n",
            "         0.0       0.92      1.00      0.96      9909\n",
            "         1.0       0.00      0.00      0.00       817\n",
            "\n",
            "    accuracy                           0.92     10726\n",
            "   macro avg       0.46      0.50      0.48     10726\n",
            "weighted avg       0.85      0.92      0.89     10726\n",
            "\n",
            " 68/336 [=====>........................] - ETA: 0s"
          ]
        },
        {
          "output_type": "stream",
          "name": "stderr",
          "text": [
            "/usr/local/lib/python3.8/dist-packages/sklearn/metrics/_classification.py:1344: UndefinedMetricWarning: Precision and F-score are ill-defined and being set to 0.0 in labels with no predicted samples. Use `zero_division` parameter to control this behavior.\n",
            "  _warn_prf(average, modifier, msg_start, len(result))\n",
            "/usr/local/lib/python3.8/dist-packages/sklearn/metrics/_classification.py:1344: UndefinedMetricWarning: Precision and F-score are ill-defined and being set to 0.0 in labels with no predicted samples. Use `zero_division` parameter to control this behavior.\n",
            "  _warn_prf(average, modifier, msg_start, len(result))\n",
            "/usr/local/lib/python3.8/dist-packages/sklearn/metrics/_classification.py:1344: UndefinedMetricWarning: Precision and F-score are ill-defined and being set to 0.0 in labels with no predicted samples. Use `zero_division` parameter to control this behavior.\n",
            "  _warn_prf(average, modifier, msg_start, len(result))\n",
            "/usr/local/lib/python3.8/dist-packages/sklearn/metrics/_classification.py:1344: UndefinedMetricWarning: Precision and F-score are ill-defined and being set to 0.0 due to no predicted samples. Use `zero_division` parameter to control this behavior.\n",
            "  _warn_prf(average, modifier, msg_start, len(result))\n"
          ]
        },
        {
          "output_type": "stream",
          "name": "stdout",
          "text": [
            "336/336 [==============================] - 1s 2ms/step\n",
            "scenario 11.txt complete\n",
            "Epoch 1/3\n",
            "8137/8137 [==============================] - 25s 3ms/step - loss: 1153844736.0000 - accuracy: 0.9728 - val_loss: 9311.1514 - val_accuracy: 0.9933\n",
            "Epoch 2/3\n",
            "8137/8137 [==============================] - 23s 3ms/step - loss: 46165348.0000 - accuracy: 0.9924 - val_loss: 2912.2795 - val_accuracy: 0.9933\n",
            "Epoch 3/3\n",
            "8137/8137 [==============================] - 24s 3ms/step - loss: 15044504.0000 - accuracy: 0.9932 - val_loss: 2313.7134 - val_accuracy: 0.9933\n",
            "1018/1018 [==============================] - 2s 2ms/step\n",
            "12.txt\n",
            "              precision    recall  f1-score   support\n",
            "\n",
            "         0.0       0.99      1.00      1.00     32331\n",
            "         1.0       0.00      0.00      0.00       217\n",
            "\n",
            "    accuracy                           0.99     32548\n",
            "   macro avg       0.50      0.50      0.50     32548\n",
            "weighted avg       0.99      0.99      0.99     32548\n",
            "\n",
            "  32/1018 [..............................] - ETA: 1s "
          ]
        },
        {
          "output_type": "stream",
          "name": "stderr",
          "text": [
            "/usr/local/lib/python3.8/dist-packages/sklearn/metrics/_classification.py:1344: UndefinedMetricWarning: Precision and F-score are ill-defined and being set to 0.0 in labels with no predicted samples. Use `zero_division` parameter to control this behavior.\n",
            "  _warn_prf(average, modifier, msg_start, len(result))\n",
            "/usr/local/lib/python3.8/dist-packages/sklearn/metrics/_classification.py:1344: UndefinedMetricWarning: Precision and F-score are ill-defined and being set to 0.0 in labels with no predicted samples. Use `zero_division` parameter to control this behavior.\n",
            "  _warn_prf(average, modifier, msg_start, len(result))\n",
            "/usr/local/lib/python3.8/dist-packages/sklearn/metrics/_classification.py:1344: UndefinedMetricWarning: Precision and F-score are ill-defined and being set to 0.0 in labels with no predicted samples. Use `zero_division` parameter to control this behavior.\n",
            "  _warn_prf(average, modifier, msg_start, len(result))\n",
            "/usr/local/lib/python3.8/dist-packages/sklearn/metrics/_classification.py:1344: UndefinedMetricWarning: Precision and F-score are ill-defined and being set to 0.0 due to no predicted samples. Use `zero_division` parameter to control this behavior.\n",
            "  _warn_prf(average, modifier, msg_start, len(result))\n"
          ]
        },
        {
          "output_type": "stream",
          "name": "stdout",
          "text": [
            "1018/1018 [==============================] - 2s 2ms/step\n",
            "scenario 12.txt complete\n"
          ]
        }
      ]
    },
    {
      "cell_type": "code",
      "source": [
        "results_df = pd.DataFrame(results).sort_values('Scenario')\n",
        "results_df"
      ],
      "metadata": {
        "id": "W3L11S-0R9HA",
        "colab": {
          "base_uri": "https://localhost:8080/",
          "height": 206
        },
        "outputId": "e25926ee-0e34-4099-abfa-e2fbe5213520"
      },
      "execution_count": 18,
      "outputs": [
        {
          "output_type": "execute_result",
          "data": {
            "text/plain": [
              "  Scenario  Precision  Recall  F1 Score  AUC\n",
              "3       11        0.0     0.0       0.0  0.5\n",
              "4       12        0.0     0.0       0.0  0.5\n",
              "0        5        0.0     0.0       0.0  0.5\n",
              "1        6        0.0     0.0       0.0  0.5\n",
              "2        7        0.0     0.0       0.0  0.5"
            ],
            "text/html": [
              "\n",
              "  <div id=\"df-bdb870e6-b943-4824-85df-8c6d0920b39b\">\n",
              "    <div class=\"colab-df-container\">\n",
              "      <div>\n",
              "<style scoped>\n",
              "    .dataframe tbody tr th:only-of-type {\n",
              "        vertical-align: middle;\n",
              "    }\n",
              "\n",
              "    .dataframe tbody tr th {\n",
              "        vertical-align: top;\n",
              "    }\n",
              "\n",
              "    .dataframe thead th {\n",
              "        text-align: right;\n",
              "    }\n",
              "</style>\n",
              "<table border=\"1\" class=\"dataframe\">\n",
              "  <thead>\n",
              "    <tr style=\"text-align: right;\">\n",
              "      <th></th>\n",
              "      <th>Scenario</th>\n",
              "      <th>Precision</th>\n",
              "      <th>Recall</th>\n",
              "      <th>F1 Score</th>\n",
              "      <th>AUC</th>\n",
              "    </tr>\n",
              "  </thead>\n",
              "  <tbody>\n",
              "    <tr>\n",
              "      <th>3</th>\n",
              "      <td>11</td>\n",
              "      <td>0.0</td>\n",
              "      <td>0.0</td>\n",
              "      <td>0.0</td>\n",
              "      <td>0.5</td>\n",
              "    </tr>\n",
              "    <tr>\n",
              "      <th>4</th>\n",
              "      <td>12</td>\n",
              "      <td>0.0</td>\n",
              "      <td>0.0</td>\n",
              "      <td>0.0</td>\n",
              "      <td>0.5</td>\n",
              "    </tr>\n",
              "    <tr>\n",
              "      <th>0</th>\n",
              "      <td>5</td>\n",
              "      <td>0.0</td>\n",
              "      <td>0.0</td>\n",
              "      <td>0.0</td>\n",
              "      <td>0.5</td>\n",
              "    </tr>\n",
              "    <tr>\n",
              "      <th>1</th>\n",
              "      <td>6</td>\n",
              "      <td>0.0</td>\n",
              "      <td>0.0</td>\n",
              "      <td>0.0</td>\n",
              "      <td>0.5</td>\n",
              "    </tr>\n",
              "    <tr>\n",
              "      <th>2</th>\n",
              "      <td>7</td>\n",
              "      <td>0.0</td>\n",
              "      <td>0.0</td>\n",
              "      <td>0.0</td>\n",
              "      <td>0.5</td>\n",
              "    </tr>\n",
              "  </tbody>\n",
              "</table>\n",
              "</div>\n",
              "      <button class=\"colab-df-convert\" onclick=\"convertToInteractive('df-bdb870e6-b943-4824-85df-8c6d0920b39b')\"\n",
              "              title=\"Convert this dataframe to an interactive table.\"\n",
              "              style=\"display:none;\">\n",
              "        \n",
              "  <svg xmlns=\"http://www.w3.org/2000/svg\" height=\"24px\"viewBox=\"0 0 24 24\"\n",
              "       width=\"24px\">\n",
              "    <path d=\"M0 0h24v24H0V0z\" fill=\"none\"/>\n",
              "    <path d=\"M18.56 5.44l.94 2.06.94-2.06 2.06-.94-2.06-.94-.94-2.06-.94 2.06-2.06.94zm-11 1L8.5 8.5l.94-2.06 2.06-.94-2.06-.94L8.5 2.5l-.94 2.06-2.06.94zm10 10l.94 2.06.94-2.06 2.06-.94-2.06-.94-.94-2.06-.94 2.06-2.06.94z\"/><path d=\"M17.41 7.96l-1.37-1.37c-.4-.4-.92-.59-1.43-.59-.52 0-1.04.2-1.43.59L10.3 9.45l-7.72 7.72c-.78.78-.78 2.05 0 2.83L4 21.41c.39.39.9.59 1.41.59.51 0 1.02-.2 1.41-.59l7.78-7.78 2.81-2.81c.8-.78.8-2.07 0-2.86zM5.41 20L4 18.59l7.72-7.72 1.47 1.35L5.41 20z\"/>\n",
              "  </svg>\n",
              "      </button>\n",
              "      \n",
              "  <style>\n",
              "    .colab-df-container {\n",
              "      display:flex;\n",
              "      flex-wrap:wrap;\n",
              "      gap: 12px;\n",
              "    }\n",
              "\n",
              "    .colab-df-convert {\n",
              "      background-color: #E8F0FE;\n",
              "      border: none;\n",
              "      border-radius: 50%;\n",
              "      cursor: pointer;\n",
              "      display: none;\n",
              "      fill: #1967D2;\n",
              "      height: 32px;\n",
              "      padding: 0 0 0 0;\n",
              "      width: 32px;\n",
              "    }\n",
              "\n",
              "    .colab-df-convert:hover {\n",
              "      background-color: #E2EBFA;\n",
              "      box-shadow: 0px 1px 2px rgba(60, 64, 67, 0.3), 0px 1px 3px 1px rgba(60, 64, 67, 0.15);\n",
              "      fill: #174EA6;\n",
              "    }\n",
              "\n",
              "    [theme=dark] .colab-df-convert {\n",
              "      background-color: #3B4455;\n",
              "      fill: #D2E3FC;\n",
              "    }\n",
              "\n",
              "    [theme=dark] .colab-df-convert:hover {\n",
              "      background-color: #434B5C;\n",
              "      box-shadow: 0px 1px 3px 1px rgba(0, 0, 0, 0.15);\n",
              "      filter: drop-shadow(0px 1px 2px rgba(0, 0, 0, 0.3));\n",
              "      fill: #FFFFFF;\n",
              "    }\n",
              "  </style>\n",
              "\n",
              "      <script>\n",
              "        const buttonEl =\n",
              "          document.querySelector('#df-bdb870e6-b943-4824-85df-8c6d0920b39b button.colab-df-convert');\n",
              "        buttonEl.style.display =\n",
              "          google.colab.kernel.accessAllowed ? 'block' : 'none';\n",
              "\n",
              "        async function convertToInteractive(key) {\n",
              "          const element = document.querySelector('#df-bdb870e6-b943-4824-85df-8c6d0920b39b');\n",
              "          const dataTable =\n",
              "            await google.colab.kernel.invokeFunction('convertToInteractive',\n",
              "                                                     [key], {});\n",
              "          if (!dataTable) return;\n",
              "\n",
              "          const docLinkHtml = 'Like what you see? Visit the ' +\n",
              "            '<a target=\"_blank\" href=https://colab.research.google.com/notebooks/data_table.ipynb>data table notebook</a>'\n",
              "            + ' to learn more about interactive tables.';\n",
              "          element.innerHTML = '';\n",
              "          dataTable['output_type'] = 'display_data';\n",
              "          await google.colab.output.renderOutput(dataTable, element);\n",
              "          const docLink = document.createElement('div');\n",
              "          docLink.innerHTML = docLinkHtml;\n",
              "          element.appendChild(docLink);\n",
              "        }\n",
              "      </script>\n",
              "    </div>\n",
              "  </div>\n",
              "  "
            ]
          },
          "metadata": {},
          "execution_count": 18
        }
      ]
    },
    {
      "cell_type": "code",
      "source": [
        "# print results and precision_recall to csv\n",
        "results_df.to_csv('results.csv') \n",
        "precision_recall_all.to_csv('precision_recall.csv')"
      ],
      "metadata": {
        "id": "odpPE7ZYBmqr"
      },
      "execution_count": 15,
      "outputs": []
    },
    {
      "cell_type": "code",
      "source": [
        "# precision recall graphs for each scenario\n",
        "graph = sns.FacetGrid(precision_recall_all, col = 'scenario', col_wrap = 3)\n",
        "graph.map(sns.lineplot, 'recall', 'precision')"
      ],
      "metadata": {
        "id": "AIi9yo-wBo8-",
        "colab": {
          "base_uri": "https://localhost:8080/",
          "height": 458
        },
        "outputId": "bdb28cdb-3dd8-407c-e7f5-5ffbeefbcb0e"
      },
      "execution_count": 16,
      "outputs": [
        {
          "output_type": "execute_result",
          "data": {
            "text/plain": [
              "<seaborn.axisgrid.FacetGrid at 0x7f928d6b58e0>"
            ]
          },
          "metadata": {},
          "execution_count": 16
        },
        {
          "output_type": "display_data",
          "data": {
            "text/plain": [
              "<Figure size 648x432 with 5 Axes>"
            ],
            "image/png": "[encoded data removed]"
          },
          "metadata": {
            "needs_background": "light"
          }
        }
      ]
    },
    {
      "cell_type": "code",
      "source": [
        "    #old model fitting\n",
        "    model = Sequential()\n",
        "    model.add(Dense(12, input_dim = 28, activation = 'relu'))\n",
        "    model.add(Dropout(0.2))\n",
        "    model.add(Dense(8, activation = 'relu'))\n",
        "    model.add(Dropout(0.2))\n",
        "    model.add(Dense(8, activation='relu'))\n",
        "    model.add(Dropout(0.2))\n",
        "    model.add(Dense(1, activation = 'sigmoid'))"
      ],
      "metadata": {
        "id": "Zrg9ySEiWCq7"
      },
      "execution_count": null,
      "outputs": []
    },
    {
      "cell_type": "code",
      "source": [
        "# layers model fitting\n",
        "\n",
        "\n",
        "    #input for variable-length sequences of integers\n",
        "    inputs = keras.Input(shape = (None, ), dtype = \"int32\")\n",
        "    #embed each integer in a 28,128-dimensional vector\n",
        "    x = layers.Embedding(X.shape[1], 128)(inputs)\n",
        "    #Add 3 hidden layers with dropout\n",
        "    x = layers.Dense(12, input_dim = 28, activation = 'relu')(x)\n",
        "    x = layers.Dropout(0.2)(x)\n",
        "    x = layers.Dense(8, activation = 'relu')(x)\n",
        "    x = layers.Dropout(0.2)(x)\n",
        "    x = layers.Dense(8, activation = 'relu')(x)\n",
        "    x = layers.Dropout(0.2)(x)\n",
        "    #Add a classifier\n",
        "    outputs = layers.Dense(1, activation = 'sigmoid')(x)\n",
        "    x = layers.GlobalAveragePooling2D()\n",
        "    model = keras.Model(inputs, outputs)"
      ],
      "metadata": {
        "id": "r11bBSFSxr00"
      },
      "execution_count": null,
      "outputs": []
    }
  ]
}