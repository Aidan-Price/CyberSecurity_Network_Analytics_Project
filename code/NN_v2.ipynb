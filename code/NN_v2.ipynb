{
  "nbformat": 4,
  "nbformat_minor": 0,
  "metadata": {
    "colab": {
      "provenance": []
    },
    "kernelspec": {
      "name": "python3",
      "display_name": "Python 3"
    },
    "language_info": {
      "name": "python"
    }
  },
  "cells": [
    {
      "cell_type": "markdown",
      "source": [
        "# Neural Network Preliminary Code"
      ],
      "metadata": {
        "id": "VfrJKvtxq6zB"
      }
    },
    {
      "cell_type": "markdown",
      "source": [
        "## Import Libraries"
      ],
      "metadata": {
        "id": "KeYsRk63rYWr"
      }
    },
    {
      "cell_type": "code",
      "execution_count": null,
      "metadata": {
        "id": "aB40XB54qwk4"
      },
      "outputs": [],
      "source": [
        "%%capture\n",
        "import pandas as pd\n",
        "import numpy as np\n",
        "import math\n",
        "from sklearn.preprocessing import StandardScaler\n",
        "from sklearn.model_selection import train_test_split\n",
        "from sklearn.metrics import precision_recall_fscore_support as score\n",
        "from sklearn.metrics import roc_auc_score, precision_recall_curve, accuracy_score\n",
        "from sklearn.metrics import classification_report, precision_recall_curve, roc_curve, PrecisionRecallDisplay, RocCurveDisplay, auc\n",
        "from tensorflow import keras\n",
        "from tensorflow.keras import layers\n",
        "from tensorflow.keras.metrics import AUC\n",
        "from keras.models import Sequential\n",
        "from keras.layers import Dense, Dropout, BatchNormalization, Embedding\n",
        "\n",
        "import os\n",
        "import glob\n",
        "import fileinput\n",
        "import matplotlib.pyplot as plt\n",
        "import seaborn as sns"
      ]
    },
    {
      "cell_type": "markdown",
      "source": [
        "##CTU13"
      ],
      "metadata": {
        "id": "n4o-4MKvrkP7"
      }
    },
    {
      "cell_type": "code",
      "source": [
        "# list of scenarios\n",
        "scenarios = ['1.txt', '2.txt', '3.txt', '4.txt', '5.txt', '6.txt', '7.txt', '8.txt', '9.txt', '10.txt', '11.txt', '12.txt', '13.txt']\n",
        "\n",
        "# empty list to capture statistics for each scenario\n",
        "results = [] \n",
        "precision_recall_all = pd.DataFrame()"
      ],
      "metadata": {
        "id": "GVtcoLNW9ix7"
      },
      "execution_count": null,
      "outputs": []
    },
    {
      "cell_type": "code",
      "source": [
        "from keras.engine.input_layer import Input\n",
        "# iterate over scenarios to build, train, and evaluate LSTM model\n",
        "for filename in scenarios:\n",
        "\n",
        "    scenario_name = filename.replace(\".txt\", \"\")\n",
        "    # load the dataset\n",
        "    scenario = np.genfromtxt('/content/' + filename, delimiter=',', invalid_raise = False)\n",
        "    scenario = np.nan_to_num(scenario, nan = 0.0)\n",
        "\n",
        "    # split into input (X) and output (y) variables\n",
        "    X = scenario[:,1:]\n",
        "    y = scenario[:,0]\n",
        "    \n",
        "    # split into training (80%), validation (10%), and test (10%) sets\n",
        "    rand_seed = 123\n",
        "    X_train, X_rem, y_train, y_rem = train_test_split(X, y, train_size = 0.8,\n",
        "                                                      random_state = rand_seed,\n",
        "                                                      stratify = y)\n",
        "    X_valid, X_test, y_valid, y_test = train_test_split(X_rem, y_rem, \n",
        "                                                        train_size = 0.5,\n",
        "                                                        random_state = rand_seed,\n",
        "                                                        stratify = y_rem)\n",
        "    \n",
        "    # build NN model\n",
        "  \n",
        "    model = Sequential()\n",
        "    model.add(Dense(12, input_dim = 28, activation = 'relu'))\n",
        "    model.add(Dropout(0.1))\n",
        "    model.add(Dense(8, activation = 'relu'))\n",
        "    model.add(Dropout(0.1))\n",
        "    model.add(Dense(8, activation='relu'))\n",
        "    model.add(Dropout(0.1))\n",
        "    model.add(Dense(1, activation = 'sigmoid'))\n",
        "\n",
        "    #compile and fit the model\n",
        "    model.compile(loss='binary_crossentropy', optimizer = 'adam',\n",
        "                  metrics=['accuracy'])\n",
        "    model.fit(X_train, y_train, batch_size = 32, epochs = 2,\n",
        "              validation_data=(X_valid, y_valid))\n",
        "    \n",
        "    #make predictions with model and print classification report\n",
        "    predictions = (model.predict(X_test) > .5).astype(int)\n",
        "    print(filename)\n",
        "    print(classification_report(y_test, predictions))\n",
        "\n",
        "    # calculate metrics for each model\n",
        "    precision, recall, fscore, support = score(y_test, predictions, \n",
        "                                               average = 'binary')\n",
        "    auc = roc_auc_score(y_test, predictions)\n",
        "    accuracy = accuracy_score(y_test, predictions)\n",
        "\n",
        "\n",
        "    # append metrics to results\n",
        "    results.append(\n",
        "        {\n",
        "          'Scenario': scenario_name,\n",
        "          'Precision': precision,\n",
        "          'Recall': recall,\n",
        "          'F1 Score': fscore,\n",
        "          'AUC': auc\n",
        "        })\n",
        "    \n",
        "    # write data for precision recall curves to csv\n",
        "    #exception handling\n",
        "    cols = ['precision', 'recall', 'thresholds']\n",
        "    try:  \n",
        "      precision_recall = precision_recall_curve(y_test, model.predict(X_test))\n",
        "      precision_recall = pd.DataFrame(precision_recall, index = cols).transpose()\n",
        "      precision_recall['scenario'] = filename\n",
        "      precision_recall_all = precision_recall_all.append(precision_recall)\n",
        "    except ValueError as e:\n",
        "      if \"Input contains NaN\" in str(e):\n",
        "        print(\"Skipping function due to NaN input.\")\n",
        "      else:\n",
        "          raise e\n",
        "    print(\"scenario\", filename, \"complete\")\n",
        "    print(\"------------------------------\")"
      ],
      "metadata": {
        "id": "uM1dqtl9Coje",
        "colab": {
          "base_uri": "https://localhost:8080/"
        },
        "outputId": "14d86feb-b9f1-453e-de26-f7633489d58f"
      },
      "execution_count": null,
      "outputs": [
        {
          "output_type": "stream",
          "name": "stderr",
          "text": [
            "<ipython-input-5-d75dccb303b2>:7: ConversionWarning: Some errors were detected !\n",
            "    Line #1636503 (got 6 columns instead of 29)\n",
            "  scenario = np.genfromtxt('/content/' + filename, delimiter=',', invalid_raise = False)\n"
          ]
        },
        {
          "output_type": "stream",
          "name": "stdout",
          "text": [
            "Epoch 1/2\n",
            "40913/40913 [==============================] - 97s 2ms/step - loss: 143134336.0000 - accuracy: 0.9886 - val_loss: 57.3858 - val_accuracy: 0.9901\n",
            "Epoch 2/2\n",
            "40913/40913 [==============================] - 90s 2ms/step - loss: 7513.5034 - accuracy: 0.9901 - val_loss: 0.0475 - val_accuracy: 0.9901\n",
            "5115/5115 [==============================] - 7s 1ms/step\n",
            "1.txt\n"
          ]
        },
        {
          "output_type": "stream",
          "name": "stderr",
          "text": [
            "/usr/local/lib/python3.10/dist-packages/sklearn/metrics/_classification.py:1344: UndefinedMetricWarning: Precision and F-score are ill-defined and being set to 0.0 in labels with no predicted samples. Use `zero_division` parameter to control this behavior.\n",
            "  _warn_prf(average, modifier, msg_start, len(result))\n",
            "/usr/local/lib/python3.10/dist-packages/sklearn/metrics/_classification.py:1344: UndefinedMetricWarning: Precision and F-score are ill-defined and being set to 0.0 in labels with no predicted samples. Use `zero_division` parameter to control this behavior.\n",
            "  _warn_prf(average, modifier, msg_start, len(result))\n",
            "/usr/local/lib/python3.10/dist-packages/sklearn/metrics/_classification.py:1344: UndefinedMetricWarning: Precision and F-score are ill-defined and being set to 0.0 in labels with no predicted samples. Use `zero_division` parameter to control this behavior.\n",
            "  _warn_prf(average, modifier, msg_start, len(result))\n",
            "/usr/local/lib/python3.10/dist-packages/sklearn/metrics/_classification.py:1344: UndefinedMetricWarning: Precision and F-score are ill-defined and being set to 0.0 due to no predicted samples. Use `zero_division` parameter to control this behavior.\n",
            "  _warn_prf(average, modifier, msg_start, len(result))\n"
          ]
        },
        {
          "output_type": "stream",
          "name": "stdout",
          "text": [
            "              precision    recall  f1-score   support\n",
            "\n",
            "         0.0       0.99      1.00      1.00    162037\n",
            "         1.0       0.00      0.00      0.00      1614\n",
            "\n",
            "    accuracy                           0.99    163651\n",
            "   macro avg       0.50      0.50      0.50    163651\n",
            "weighted avg       0.98      0.99      0.99    163651\n",
            "\n",
            "5115/5115 [==============================] - 6s 1ms/step\n"
          ]
        },
        {
          "output_type": "stream",
          "name": "stderr",
          "text": [
            "<ipython-input-5-d75dccb303b2>:70: FutureWarning: The frame.append method is deprecated and will be removed from pandas in a future version. Use pandas.concat instead.\n",
            "  precision_recall_all = precision_recall_all.append(precision_recall)\n"
          ]
        },
        {
          "output_type": "stream",
          "name": "stdout",
          "text": [
            "scenario 1.txt complete\n"
          ]
        },
        {
          "output_type": "stream",
          "name": "stderr",
          "text": [
            "<ipython-input-5-d75dccb303b2>:7: ConversionWarning: Some errors were detected !\n",
            "    Line #1649561 (got 6 columns instead of 29)\n",
            "  scenario = np.genfromtxt('/content/' + filename, delimiter=',', invalid_raise = False)\n"
          ]
        },
        {
          "output_type": "stream",
          "name": "stdout",
          "text": [
            "Epoch 1/2\n",
            "41239/41239 [==============================] - 103s 2ms/step - loss: nan - accuracy: 0.9883 - val_loss: nan - val_accuracy: 0.9883\n",
            "Epoch 2/2\n",
            "41239/41239 [==============================] - 94s 2ms/step - loss: nan - accuracy: 0.9883 - val_loss: nan - val_accuracy: 0.9883\n",
            "5155/5155 [==============================] - 7s 1ms/step\n",
            "2.txt\n"
          ]
        },
        {
          "output_type": "stream",
          "name": "stderr",
          "text": [
            "/usr/local/lib/python3.10/dist-packages/sklearn/metrics/_classification.py:1344: UndefinedMetricWarning: Precision and F-score are ill-defined and being set to 0.0 in labels with no predicted samples. Use `zero_division` parameter to control this behavior.\n",
            "  _warn_prf(average, modifier, msg_start, len(result))\n",
            "/usr/local/lib/python3.10/dist-packages/sklearn/metrics/_classification.py:1344: UndefinedMetricWarning: Precision and F-score are ill-defined and being set to 0.0 in labels with no predicted samples. Use `zero_division` parameter to control this behavior.\n",
            "  _warn_prf(average, modifier, msg_start, len(result))\n",
            "/usr/local/lib/python3.10/dist-packages/sklearn/metrics/_classification.py:1344: UndefinedMetricWarning: Precision and F-score are ill-defined and being set to 0.0 in labels with no predicted samples. Use `zero_division` parameter to control this behavior.\n",
            "  _warn_prf(average, modifier, msg_start, len(result))\n",
            "/usr/local/lib/python3.10/dist-packages/sklearn/metrics/_classification.py:1344: UndefinedMetricWarning: Precision and F-score are ill-defined and being set to 0.0 due to no predicted samples. Use `zero_division` parameter to control this behavior.\n",
            "  _warn_prf(average, modifier, msg_start, len(result))\n"
          ]
        },
        {
          "output_type": "stream",
          "name": "stdout",
          "text": [
            "              precision    recall  f1-score   support\n",
            "\n",
            "         0.0       0.99      1.00      0.99    163023\n",
            "         1.0       0.00      0.00      0.00      1933\n",
            "\n",
            "    accuracy                           0.99    164956\n",
            "   macro avg       0.49      0.50      0.50    164956\n",
            "weighted avg       0.98      0.99      0.98    164956\n",
            "\n",
            "5155/5155 [==============================] - 7s 1ms/step\n",
            "Skipping function due to NaN input.\n"
          ]
        },
        {
          "output_type": "stream",
          "name": "stderr",
          "text": [
            "<ipython-input-5-d75dccb303b2>:7: ConversionWarning: Some errors were detected !\n",
            "    Line #1533603 (got 10 columns instead of 29)\n",
            "  scenario = np.genfromtxt('/content/' + filename, delimiter=',', invalid_raise = False)\n"
          ]
        },
        {
          "output_type": "stream",
          "name": "stdout",
          "text": [
            "Epoch 1/2\n",
            "38341/38341 [==============================] - 98s 3ms/step - loss: 11630505984.0000 - accuracy: 0.9921 - val_loss: 14.0180 - val_accuracy: 1.0000\n",
            "Epoch 2/2\n",
            "38341/38341 [==============================] - 91s 2ms/step - loss: 61338.1719 - accuracy: 1.0000 - val_loss: 1.8978 - val_accuracy: 1.0000\n",
            "4793/4793 [==============================] - 7s 1ms/step\n",
            "3.txt\n"
          ]
        },
        {
          "output_type": "stream",
          "name": "stderr",
          "text": [
            "/usr/local/lib/python3.10/dist-packages/sklearn/metrics/_classification.py:1344: UndefinedMetricWarning: Precision and F-score are ill-defined and being set to 0.0 in labels with no predicted samples. Use `zero_division` parameter to control this behavior.\n",
            "  _warn_prf(average, modifier, msg_start, len(result))\n",
            "/usr/local/lib/python3.10/dist-packages/sklearn/metrics/_classification.py:1344: UndefinedMetricWarning: Precision and F-score are ill-defined and being set to 0.0 in labels with no predicted samples. Use `zero_division` parameter to control this behavior.\n",
            "  _warn_prf(average, modifier, msg_start, len(result))\n",
            "/usr/local/lib/python3.10/dist-packages/sklearn/metrics/_classification.py:1344: UndefinedMetricWarning: Precision and F-score are ill-defined and being set to 0.0 in labels with no predicted samples. Use `zero_division` parameter to control this behavior.\n",
            "  _warn_prf(average, modifier, msg_start, len(result))\n"
          ]
        },
        {
          "output_type": "stream",
          "name": "stdout",
          "text": [
            "              precision    recall  f1-score   support\n",
            "\n",
            "         0.0       1.00      1.00      1.00    153357\n",
            "         1.0       0.00      0.00      0.00         4\n",
            "\n",
            "    accuracy                           1.00    153361\n",
            "   macro avg       0.50      0.50      0.50    153361\n",
            "weighted avg       1.00      1.00      1.00    153361\n",
            "\n",
            "  35/4793 [..............................] - ETA: 7s  "
          ]
        },
        {
          "output_type": "stream",
          "name": "stderr",
          "text": [
            "/usr/local/lib/python3.10/dist-packages/sklearn/metrics/_classification.py:1344: UndefinedMetricWarning: Precision and F-score are ill-defined and being set to 0.0 due to no predicted samples. Use `zero_division` parameter to control this behavior.\n",
            "  _warn_prf(average, modifier, msg_start, len(result))\n"
          ]
        },
        {
          "output_type": "stream",
          "name": "stdout",
          "text": [
            "4793/4793 [==============================] - 7s 1ms/step\n"
          ]
        },
        {
          "output_type": "stream",
          "name": "stderr",
          "text": [
            "<ipython-input-5-d75dccb303b2>:70: FutureWarning: The frame.append method is deprecated and will be removed from pandas in a future version. Use pandas.concat instead.\n",
            "  precision_recall_all = precision_recall_all.append(precision_recall)\n"
          ]
        },
        {
          "output_type": "stream",
          "name": "stdout",
          "text": [
            "scenario 3.txt complete\n",
            "Epoch 1/2\n",
            "28027/28027 [==============================] - 72s 3ms/step - loss: 14898828288.0000 - accuracy: 0.9901 - val_loss: 14.9675 - val_accuracy: 0.9977\n",
            "Epoch 2/2\n",
            "28027/28027 [==============================] - 62s 2ms/step - loss: 2583751.7500 - accuracy: 0.9976 - val_loss: 267.0829 - val_accuracy: 0.9977\n",
            "3504/3504 [==============================] - 5s 1ms/step\n",
            "4.txt\n"
          ]
        },
        {
          "output_type": "stream",
          "name": "stderr",
          "text": [
            "/usr/local/lib/python3.10/dist-packages/sklearn/metrics/_classification.py:1344: UndefinedMetricWarning: Precision and F-score are ill-defined and being set to 0.0 in labels with no predicted samples. Use `zero_division` parameter to control this behavior.\n",
            "  _warn_prf(average, modifier, msg_start, len(result))\n",
            "/usr/local/lib/python3.10/dist-packages/sklearn/metrics/_classification.py:1344: UndefinedMetricWarning: Precision and F-score are ill-defined and being set to 0.0 in labels with no predicted samples. Use `zero_division` parameter to control this behavior.\n",
            "  _warn_prf(average, modifier, msg_start, len(result))\n",
            "/usr/local/lib/python3.10/dist-packages/sklearn/metrics/_classification.py:1344: UndefinedMetricWarning: Precision and F-score are ill-defined and being set to 0.0 in labels with no predicted samples. Use `zero_division` parameter to control this behavior.\n",
            "  _warn_prf(average, modifier, msg_start, len(result))\n",
            "/usr/local/lib/python3.10/dist-packages/sklearn/metrics/_classification.py:1344: UndefinedMetricWarning: Precision and F-score are ill-defined and being set to 0.0 due to no predicted samples. Use `zero_division` parameter to control this behavior.\n",
            "  _warn_prf(average, modifier, msg_start, len(result))\n"
          ]
        },
        {
          "output_type": "stream",
          "name": "stdout",
          "text": [
            "              precision    recall  f1-score   support\n",
            "\n",
            "         0.0       1.00      1.00      1.00    111850\n",
            "         1.0       0.00      0.00      0.00       258\n",
            "\n",
            "    accuracy                           1.00    112108\n",
            "   macro avg       0.50      0.50      0.50    112108\n",
            "weighted avg       1.00      1.00      1.00    112108\n",
            "\n",
            "3504/3504 [==============================] - 4s 1ms/step\n"
          ]
        },
        {
          "output_type": "stream",
          "name": "stderr",
          "text": [
            "<ipython-input-5-d75dccb303b2>:70: FutureWarning: The frame.append method is deprecated and will be removed from pandas in a future version. Use pandas.concat instead.\n",
            "  precision_recall_all = precision_recall_all.append(precision_recall)\n"
          ]
        },
        {
          "output_type": "stream",
          "name": "stdout",
          "text": [
            "scenario 4.txt complete\n",
            "Epoch 1/2\n",
            "3246/3246 [==============================] - 9s 2ms/step - loss: 102458023936.0000 - accuracy: 0.8780 - val_loss: 4545976.0000 - val_accuracy: 0.9728\n",
            "Epoch 2/2\n",
            "3246/3246 [==============================] - 8s 2ms/step - loss: 4337520128.0000 - accuracy: 0.9810 - val_loss: 2245514.7500 - val_accuracy: 0.9931\n",
            "406/406 [==============================] - 1s 1ms/step\n",
            "5.txt\n",
            "              precision    recall  f1-score   support\n",
            "\n",
            "         0.0       0.99      1.00      1.00     12894\n",
            "         1.0       0.00      0.00      0.00        90\n",
            "\n",
            "    accuracy                           0.99     12984\n",
            "   macro avg       0.50      0.50      0.50     12984\n",
            "weighted avg       0.99      0.99      0.99     12984\n",
            "\n",
            " 83/406 [=====>........................] - ETA: 0s"
          ]
        },
        {
          "output_type": "stream",
          "name": "stderr",
          "text": [
            "/usr/local/lib/python3.10/dist-packages/sklearn/metrics/_classification.py:1344: UndefinedMetricWarning: Precision and F-score are ill-defined and being set to 0.0 in labels with no predicted samples. Use `zero_division` parameter to control this behavior.\n",
            "  _warn_prf(average, modifier, msg_start, len(result))\n",
            "/usr/local/lib/python3.10/dist-packages/sklearn/metrics/_classification.py:1344: UndefinedMetricWarning: Precision and F-score are ill-defined and being set to 0.0 in labels with no predicted samples. Use `zero_division` parameter to control this behavior.\n",
            "  _warn_prf(average, modifier, msg_start, len(result))\n",
            "/usr/local/lib/python3.10/dist-packages/sklearn/metrics/_classification.py:1344: UndefinedMetricWarning: Precision and F-score are ill-defined and being set to 0.0 in labels with no predicted samples. Use `zero_division` parameter to control this behavior.\n",
            "  _warn_prf(average, modifier, msg_start, len(result))\n",
            "/usr/local/lib/python3.10/dist-packages/sklearn/metrics/_classification.py:1344: UndefinedMetricWarning: Precision and F-score are ill-defined and being set to 0.0 due to no predicted samples. Use `zero_division` parameter to control this behavior.\n",
            "  _warn_prf(average, modifier, msg_start, len(result))\n"
          ]
        },
        {
          "output_type": "stream",
          "name": "stdout",
          "text": [
            "406/406 [==============================] - 1s 1ms/step\n",
            "scenario 5.txt complete\n"
          ]
        },
        {
          "output_type": "stream",
          "name": "stderr",
          "text": [
            "<ipython-input-5-d75dccb303b2>:70: FutureWarning: The frame.append method is deprecated and will be removed from pandas in a future version. Use pandas.concat instead.\n",
            "  precision_recall_all = precision_recall_all.append(precision_recall)\n"
          ]
        },
        {
          "output_type": "stream",
          "name": "stdout",
          "text": [
            "Epoch 1/2\n",
            "13973/13973 [==============================] - 34s 2ms/step - loss: 37626168.0000 - accuracy: 0.9866 - val_loss: 0.0539 - val_accuracy: 0.9917\n",
            "Epoch 2/2\n",
            "13973/13973 [==============================] - 32s 2ms/step - loss: 187570.0000 - accuracy: 0.9916 - val_loss: 0.0460 - val_accuracy: 0.9917\n",
            "1747/1747 [==============================] - 3s 2ms/step\n",
            "6.txt\n",
            "              precision    recall  f1-score   support\n",
            "\n",
            "         0.0       0.99      1.00      1.00     55429\n",
            "         1.0       0.00      0.00      0.00       463\n",
            "\n",
            "    accuracy                           0.99     55892\n",
            "   macro avg       0.50      0.50      0.50     55892\n",
            "weighted avg       0.98      0.99      0.99     55892\n",
            "\n",
            "   1/1747 [..............................] - ETA: 45s"
          ]
        },
        {
          "output_type": "stream",
          "name": "stderr",
          "text": [
            "/usr/local/lib/python3.10/dist-packages/sklearn/metrics/_classification.py:1344: UndefinedMetricWarning: Precision and F-score are ill-defined and being set to 0.0 in labels with no predicted samples. Use `zero_division` parameter to control this behavior.\n",
            "  _warn_prf(average, modifier, msg_start, len(result))\n",
            "/usr/local/lib/python3.10/dist-packages/sklearn/metrics/_classification.py:1344: UndefinedMetricWarning: Precision and F-score are ill-defined and being set to 0.0 in labels with no predicted samples. Use `zero_division` parameter to control this behavior.\n",
            "  _warn_prf(average, modifier, msg_start, len(result))\n",
            "/usr/local/lib/python3.10/dist-packages/sklearn/metrics/_classification.py:1344: UndefinedMetricWarning: Precision and F-score are ill-defined and being set to 0.0 in labels with no predicted samples. Use `zero_division` parameter to control this behavior.\n",
            "  _warn_prf(average, modifier, msg_start, len(result))\n",
            "/usr/local/lib/python3.10/dist-packages/sklearn/metrics/_classification.py:1344: UndefinedMetricWarning: Precision and F-score are ill-defined and being set to 0.0 due to no predicted samples. Use `zero_division` parameter to control this behavior.\n",
            "  _warn_prf(average, modifier, msg_start, len(result))\n"
          ]
        },
        {
          "output_type": "stream",
          "name": "stdout",
          "text": [
            "1747/1747 [==============================] - 2s 1ms/step\n"
          ]
        },
        {
          "output_type": "stream",
          "name": "stderr",
          "text": [
            "<ipython-input-5-d75dccb303b2>:70: FutureWarning: The frame.append method is deprecated and will be removed from pandas in a future version. Use pandas.concat instead.\n",
            "  precision_recall_all = precision_recall_all.append(precision_recall)\n"
          ]
        },
        {
          "output_type": "stream",
          "name": "stdout",
          "text": [
            "scenario 6.txt complete\n",
            "Epoch 1/2\n",
            "2852/2852 [==============================] - 8s 3ms/step - loss: 6372941824.0000 - accuracy: 0.9415 - val_loss: 10046.0840 - val_accuracy: 0.9994\n",
            "Epoch 2/2\n",
            "2852/2852 [==============================] - 6s 2ms/step - loss: 1038732160.0000 - accuracy: 0.9897 - val_loss: 11491.7998 - val_accuracy: 0.9994\n",
            "357/357 [==============================] - 1s 1ms/step\n",
            "7.txt\n",
            "              precision    recall  f1-score   support\n",
            "\n",
            "         0.0       1.00      1.00      1.00     11402\n",
            "         1.0       0.00      0.00      0.00         6\n",
            "\n",
            "    accuracy                           1.00     11408\n",
            "   macro avg       0.50      0.50      0.50     11408\n",
            "weighted avg       1.00      1.00      1.00     11408\n",
            "\n",
            " 85/357 [======>.......................] - ETA: 0s"
          ]
        },
        {
          "output_type": "stream",
          "name": "stderr",
          "text": [
            "/usr/local/lib/python3.10/dist-packages/sklearn/metrics/_classification.py:1344: UndefinedMetricWarning: Precision and F-score are ill-defined and being set to 0.0 in labels with no predicted samples. Use `zero_division` parameter to control this behavior.\n",
            "  _warn_prf(average, modifier, msg_start, len(result))\n",
            "/usr/local/lib/python3.10/dist-packages/sklearn/metrics/_classification.py:1344: UndefinedMetricWarning: Precision and F-score are ill-defined and being set to 0.0 in labels with no predicted samples. Use `zero_division` parameter to control this behavior.\n",
            "  _warn_prf(average, modifier, msg_start, len(result))\n",
            "/usr/local/lib/python3.10/dist-packages/sklearn/metrics/_classification.py:1344: UndefinedMetricWarning: Precision and F-score are ill-defined and being set to 0.0 in labels with no predicted samples. Use `zero_division` parameter to control this behavior.\n",
            "  _warn_prf(average, modifier, msg_start, len(result))\n",
            "/usr/local/lib/python3.10/dist-packages/sklearn/metrics/_classification.py:1344: UndefinedMetricWarning: Precision and F-score are ill-defined and being set to 0.0 due to no predicted samples. Use `zero_division` parameter to control this behavior.\n",
            "  _warn_prf(average, modifier, msg_start, len(result))\n"
          ]
        },
        {
          "output_type": "stream",
          "name": "stdout",
          "text": [
            "357/357 [==============================] - 0s 1ms/step\n",
            "scenario 7.txt complete\n"
          ]
        },
        {
          "output_type": "stream",
          "name": "stderr",
          "text": [
            "<ipython-input-5-d75dccb303b2>:70: FutureWarning: The frame.append method is deprecated and will be removed from pandas in a future version. Use pandas.concat instead.\n",
            "  precision_recall_all = precision_recall_all.append(precision_recall)\n",
            "<ipython-input-5-d75dccb303b2>:7: ConversionWarning: Some errors were detected !\n",
            "    Line #1534884 (got 14 columns instead of 29)\n",
            "  scenario = np.genfromtxt('/content/' + filename, delimiter=',', invalid_raise = False)\n"
          ]
        },
        {
          "output_type": "stream",
          "name": "stdout",
          "text": [
            "Epoch 1/2\n",
            "38373/38373 [==============================] - 93s 2ms/step - loss: nan - accuracy: 0.9981 - val_loss: nan - val_accuracy: 0.9983\n",
            "Epoch 2/2\n",
            "38373/38373 [==============================] - 85s 2ms/step - loss: nan - accuracy: 0.9983 - val_loss: nan - val_accuracy: 0.9983\n",
            "4797/4797 [==============================] - 7s 1ms/step\n",
            "8.txt\n"
          ]
        },
        {
          "output_type": "stream",
          "name": "stderr",
          "text": [
            "/usr/local/lib/python3.10/dist-packages/sklearn/metrics/_classification.py:1344: UndefinedMetricWarning: Precision and F-score are ill-defined and being set to 0.0 in labels with no predicted samples. Use `zero_division` parameter to control this behavior.\n",
            "  _warn_prf(average, modifier, msg_start, len(result))\n",
            "/usr/local/lib/python3.10/dist-packages/sklearn/metrics/_classification.py:1344: UndefinedMetricWarning: Precision and F-score are ill-defined and being set to 0.0 in labels with no predicted samples. Use `zero_division` parameter to control this behavior.\n",
            "  _warn_prf(average, modifier, msg_start, len(result))\n",
            "/usr/local/lib/python3.10/dist-packages/sklearn/metrics/_classification.py:1344: UndefinedMetricWarning: Precision and F-score are ill-defined and being set to 0.0 in labels with no predicted samples. Use `zero_division` parameter to control this behavior.\n",
            "  _warn_prf(average, modifier, msg_start, len(result))\n"
          ]
        },
        {
          "output_type": "stream",
          "name": "stdout",
          "text": [
            "              precision    recall  f1-score   support\n",
            "\n",
            "         0.0       1.00      1.00      1.00    153221\n",
            "         1.0       0.00      0.00      0.00       268\n",
            "\n",
            "    accuracy                           1.00    153489\n",
            "   macro avg       0.50      0.50      0.50    153489\n",
            "weighted avg       1.00      1.00      1.00    153489\n",
            "\n",
            "  34/4797 [..............................] - ETA: 7s  "
          ]
        },
        {
          "output_type": "stream",
          "name": "stderr",
          "text": [
            "/usr/local/lib/python3.10/dist-packages/sklearn/metrics/_classification.py:1344: UndefinedMetricWarning: Precision and F-score are ill-defined and being set to 0.0 due to no predicted samples. Use `zero_division` parameter to control this behavior.\n",
            "  _warn_prf(average, modifier, msg_start, len(result))\n"
          ]
        },
        {
          "output_type": "stream",
          "name": "stdout",
          "text": [
            "4797/4797 [==============================] - 7s 1ms/step\n",
            "Skipping function due to NaN input.\n",
            "Epoch 1/2\n",
            "39404/39404 [==============================] - 94s 2ms/step - loss: 768890688.0000 - accuracy: 0.8901 - val_loss: 0.2370 - val_accuracy: 0.9364\n",
            "Epoch 2/2\n",
            "39404/39404 [==============================] - 92s 2ms/step - loss: 42649.5859 - accuracy: 0.9363 - val_loss: 0.2363 - val_accuracy: 0.9364\n",
            "4926/4926 [==============================] - 7s 1ms/step\n",
            "9.txt\n"
          ]
        },
        {
          "output_type": "stream",
          "name": "stderr",
          "text": [
            "/usr/local/lib/python3.10/dist-packages/sklearn/metrics/_classification.py:1344: UndefinedMetricWarning: Precision and F-score are ill-defined and being set to 0.0 in labels with no predicted samples. Use `zero_division` parameter to control this behavior.\n",
            "  _warn_prf(average, modifier, msg_start, len(result))\n",
            "/usr/local/lib/python3.10/dist-packages/sklearn/metrics/_classification.py:1344: UndefinedMetricWarning: Precision and F-score are ill-defined and being set to 0.0 in labels with no predicted samples. Use `zero_division` parameter to control this behavior.\n",
            "  _warn_prf(average, modifier, msg_start, len(result))\n"
          ]
        },
        {
          "output_type": "stream",
          "name": "stdout",
          "text": [
            "              precision    recall  f1-score   support\n",
            "\n",
            "         0.0       0.94      1.00      0.97    147587\n",
            "         1.0       0.00      0.00      0.00     10028\n",
            "\n",
            "    accuracy                           0.94    157615\n",
            "   macro avg       0.47      0.50      0.48    157615\n",
            "weighted avg       0.88      0.94      0.91    157615\n",
            "\n",
            "\r   1/4926 [..............................] - ETA: 2:13"
          ]
        },
        {
          "output_type": "stream",
          "name": "stderr",
          "text": [
            "/usr/local/lib/python3.10/dist-packages/sklearn/metrics/_classification.py:1344: UndefinedMetricWarning: Precision and F-score are ill-defined and being set to 0.0 in labels with no predicted samples. Use `zero_division` parameter to control this behavior.\n",
            "  _warn_prf(average, modifier, msg_start, len(result))\n",
            "/usr/local/lib/python3.10/dist-packages/sklearn/metrics/_classification.py:1344: UndefinedMetricWarning: Precision and F-score are ill-defined and being set to 0.0 due to no predicted samples. Use `zero_division` parameter to control this behavior.\n",
            "  _warn_prf(average, modifier, msg_start, len(result))\n"
          ]
        },
        {
          "output_type": "stream",
          "name": "stdout",
          "text": [
            "4926/4926 [==============================] - 6s 1ms/step\n"
          ]
        },
        {
          "output_type": "stream",
          "name": "stderr",
          "text": [
            "<ipython-input-5-d75dccb303b2>:70: FutureWarning: The frame.append method is deprecated and will be removed from pandas in a future version. Use pandas.concat instead.\n",
            "  precision_recall_all = precision_recall_all.append(precision_recall)\n"
          ]
        },
        {
          "output_type": "stream",
          "name": "stdout",
          "text": [
            "scenario 9.txt complete\n",
            "Epoch 1/2\n",
            "32745/32745 [==============================] - 75s 2ms/step - loss: 27887935488.0000 - accuracy: 0.9191 - val_loss: 22824.0273 - val_accuracy: 0.9188\n",
            "Epoch 2/2\n",
            "32745/32745 [==============================] - 73s 2ms/step - loss: 2175274.5000 - accuracy: 0.9186 - val_loss: 58.3516 - val_accuracy: 0.9188\n",
            "4094/4094 [==============================] - 6s 1ms/step\n",
            "10.txt\n"
          ]
        },
        {
          "output_type": "stream",
          "name": "stderr",
          "text": [
            "/usr/local/lib/python3.10/dist-packages/sklearn/metrics/_classification.py:1344: UndefinedMetricWarning: Precision and F-score are ill-defined and being set to 0.0 in labels with no predicted samples. Use `zero_division` parameter to control this behavior.\n",
            "  _warn_prf(average, modifier, msg_start, len(result))\n",
            "/usr/local/lib/python3.10/dist-packages/sklearn/metrics/_classification.py:1344: UndefinedMetricWarning: Precision and F-score are ill-defined and being set to 0.0 in labels with no predicted samples. Use `zero_division` parameter to control this behavior.\n",
            "  _warn_prf(average, modifier, msg_start, len(result))\n",
            "/usr/local/lib/python3.10/dist-packages/sklearn/metrics/_classification.py:1344: UndefinedMetricWarning: Precision and F-score are ill-defined and being set to 0.0 in labels with no predicted samples. Use `zero_division` parameter to control this behavior.\n",
            "  _warn_prf(average, modifier, msg_start, len(result))\n"
          ]
        },
        {
          "output_type": "stream",
          "name": "stdout",
          "text": [
            "              precision    recall  f1-score   support\n",
            "\n",
            "         0.0       0.92      1.00      0.96    120345\n",
            "         1.0       0.00      0.00      0.00     10635\n",
            "\n",
            "    accuracy                           0.92    130980\n",
            "   macro avg       0.46      0.50      0.48    130980\n",
            "weighted avg       0.84      0.92      0.88    130980\n",
            "\n",
            "  43/4094 [..............................] - ETA: 4s  "
          ]
        },
        {
          "output_type": "stream",
          "name": "stderr",
          "text": [
            "/usr/local/lib/python3.10/dist-packages/sklearn/metrics/_classification.py:1344: UndefinedMetricWarning: Precision and F-score are ill-defined and being set to 0.0 due to no predicted samples. Use `zero_division` parameter to control this behavior.\n",
            "  _warn_prf(average, modifier, msg_start, len(result))\n"
          ]
        },
        {
          "output_type": "stream",
          "name": "stdout",
          "text": [
            "4094/4094 [==============================] - 5s 1ms/step\n"
          ]
        },
        {
          "output_type": "stream",
          "name": "stderr",
          "text": [
            "<ipython-input-5-d75dccb303b2>:70: FutureWarning: The frame.append method is deprecated and will be removed from pandas in a future version. Use pandas.concat instead.\n",
            "  precision_recall_all = precision_recall_all.append(precision_recall)\n"
          ]
        },
        {
          "output_type": "stream",
          "name": "stdout",
          "text": [
            "scenario 10.txt complete\n",
            "Epoch 1/2\n",
            "2682/2682 [==============================] - 8s 3ms/step - loss: 18743635968.0000 - accuracy: 0.8100 - val_loss: 21691734.0000 - val_accuracy: 0.9236\n",
            "Epoch 2/2\n",
            "2682/2682 [==============================] - 6s 2ms/step - loss: 391561312.0000 - accuracy: 0.8785 - val_loss: 6562143.5000 - val_accuracy: 0.8124\n",
            "336/336 [==============================] - 1s 1ms/step\n",
            "11.txt\n",
            "              precision    recall  f1-score   support\n",
            "\n",
            "         0.0       0.91      0.87      0.89      9909\n",
            "         1.0       0.00      0.00      0.00       817\n",
            "\n",
            "    accuracy                           0.80     10726\n",
            "   macro avg       0.46      0.43      0.44     10726\n",
            "weighted avg       0.84      0.80      0.82     10726\n",
            "\n",
            "336/336 [==============================] - 0s 1ms/step\n",
            "scenario 11.txt complete\n"
          ]
        },
        {
          "output_type": "stream",
          "name": "stderr",
          "text": [
            "<ipython-input-5-d75dccb303b2>:70: FutureWarning: The frame.append method is deprecated and will be removed from pandas in a future version. Use pandas.concat instead.\n",
            "  precision_recall_all = precision_recall_all.append(precision_recall)\n"
          ]
        },
        {
          "output_type": "stream",
          "name": "stdout",
          "text": [
            "Epoch 1/2\n",
            "8137/8137 [==============================] - 21s 2ms/step - loss: 1068383488.0000 - accuracy: 0.9757 - val_loss: 3997958.0000 - val_accuracy: 0.9933\n",
            "Epoch 2/2\n",
            "8137/8137 [==============================] - 20s 2ms/step - loss: 327316928.0000 - accuracy: 0.9917 - val_loss: 98.3672 - val_accuracy: 0.9933\n",
            "1018/1018 [==============================] - 3s 3ms/step\n",
            "12.txt\n",
            "              precision    recall  f1-score   support\n",
            "\n",
            "         0.0       0.99      1.00      1.00     32331\n",
            "         1.0       0.00      0.00      0.00       217\n",
            "\n",
            "    accuracy                           0.99     32548\n",
            "   macro avg       0.50      0.50      0.50     32548\n",
            "weighted avg       0.99      0.99      0.99     32548\n",
            "\n"
          ]
        },
        {
          "output_type": "stream",
          "name": "stderr",
          "text": [
            "/usr/local/lib/python3.10/dist-packages/sklearn/metrics/_classification.py:1344: UndefinedMetricWarning: Precision and F-score are ill-defined and being set to 0.0 in labels with no predicted samples. Use `zero_division` parameter to control this behavior.\n",
            "  _warn_prf(average, modifier, msg_start, len(result))\n",
            "/usr/local/lib/python3.10/dist-packages/sklearn/metrics/_classification.py:1344: UndefinedMetricWarning: Precision and F-score are ill-defined and being set to 0.0 in labels with no predicted samples. Use `zero_division` parameter to control this behavior.\n",
            "  _warn_prf(average, modifier, msg_start, len(result))\n",
            "/usr/local/lib/python3.10/dist-packages/sklearn/metrics/_classification.py:1344: UndefinedMetricWarning: Precision and F-score are ill-defined and being set to 0.0 in labels with no predicted samples. Use `zero_division` parameter to control this behavior.\n",
            "  _warn_prf(average, modifier, msg_start, len(result))\n",
            "/usr/local/lib/python3.10/dist-packages/sklearn/metrics/_classification.py:1344: UndefinedMetricWarning: Precision and F-score are ill-defined and being set to 0.0 due to no predicted samples. Use `zero_division` parameter to control this behavior.\n",
            "  _warn_prf(average, modifier, msg_start, len(result))\n"
          ]
        },
        {
          "output_type": "stream",
          "name": "stdout",
          "text": [
            "1018/1018 [==============================] - 1s 1ms/step\n"
          ]
        },
        {
          "output_type": "stream",
          "name": "stderr",
          "text": [
            "<ipython-input-5-d75dccb303b2>:70: FutureWarning: The frame.append method is deprecated and will be removed from pandas in a future version. Use pandas.concat instead.\n",
            "  precision_recall_all = precision_recall_all.append(precision_recall)\n"
          ]
        },
        {
          "output_type": "stream",
          "name": "stdout",
          "text": [
            "scenario 12.txt complete\n"
          ]
        },
        {
          "output_type": "stream",
          "name": "stderr",
          "text": [
            "<ipython-input-5-d75dccb303b2>:7: ConversionWarning: Some errors were detected !\n",
            "    Line #1606189 (got 10 columns instead of 29)\n",
            "  scenario = np.genfromtxt('/content/' + filename, delimiter=',', invalid_raise = False)\n"
          ]
        },
        {
          "output_type": "stream",
          "name": "stdout",
          "text": [
            "Epoch 1/2\n",
            "40155/40155 [==============================] - 91s 2ms/step - loss: 175177808.0000 - accuracy: 0.9661 - val_loss: 0.1207 - val_accuracy: 0.9781\n",
            "Epoch 2/2\n",
            "40155/40155 [==============================] - 96s 2ms/step - loss: 42193.6992 - accuracy: 0.9779 - val_loss: 0.1052 - val_accuracy: 0.9781\n",
            "5020/5020 [==============================] - 7s 1ms/step\n",
            "13.txt\n"
          ]
        },
        {
          "output_type": "stream",
          "name": "stderr",
          "text": [
            "/usr/local/lib/python3.10/dist-packages/sklearn/metrics/_classification.py:1344: UndefinedMetricWarning: Precision and F-score are ill-defined and being set to 0.0 in labels with no predicted samples. Use `zero_division` parameter to control this behavior.\n",
            "  _warn_prf(average, modifier, msg_start, len(result))\n",
            "/usr/local/lib/python3.10/dist-packages/sklearn/metrics/_classification.py:1344: UndefinedMetricWarning: Precision and F-score are ill-defined and being set to 0.0 in labels with no predicted samples. Use `zero_division` parameter to control this behavior.\n",
            "  _warn_prf(average, modifier, msg_start, len(result))\n"
          ]
        },
        {
          "output_type": "stream",
          "name": "stdout",
          "text": [
            "              precision    recall  f1-score   support\n",
            "\n",
            "         0.0       0.98      1.00      0.99    157101\n",
            "         1.0       0.00      0.00      0.00      3518\n",
            "\n",
            "    accuracy                           0.98    160619\n",
            "   macro avg       0.49      0.50      0.49    160619\n",
            "weighted avg       0.96      0.98      0.97    160619\n",
            "\n",
            "\r   1/5020 [..............................] - ETA: 2:10"
          ]
        },
        {
          "output_type": "stream",
          "name": "stderr",
          "text": [
            "/usr/local/lib/python3.10/dist-packages/sklearn/metrics/_classification.py:1344: UndefinedMetricWarning: Precision and F-score are ill-defined and being set to 0.0 in labels with no predicted samples. Use `zero_division` parameter to control this behavior.\n",
            "  _warn_prf(average, modifier, msg_start, len(result))\n",
            "/usr/local/lib/python3.10/dist-packages/sklearn/metrics/_classification.py:1344: UndefinedMetricWarning: Precision and F-score are ill-defined and being set to 0.0 due to no predicted samples. Use `zero_division` parameter to control this behavior.\n",
            "  _warn_prf(average, modifier, msg_start, len(result))\n"
          ]
        },
        {
          "output_type": "stream",
          "name": "stdout",
          "text": [
            "5020/5020 [==============================] - 6s 1ms/step\n",
            "scenario 13.txt complete\n"
          ]
        },
        {
          "output_type": "stream",
          "name": "stderr",
          "text": [
            "<ipython-input-5-d75dccb303b2>:70: FutureWarning: The frame.append method is deprecated and will be removed from pandas in a future version. Use pandas.concat instead.\n",
            "  precision_recall_all = precision_recall_all.append(precision_recall)\n"
          ]
        }
      ]
    },
    {
      "cell_type": "code",
      "source": [
        "results_df = pd.DataFrame(results).sort_values('Scenario')\n",
        "results_df"
      ],
      "metadata": {
        "id": "MBgxT0ocCz-v",
        "colab": {
          "base_uri": "https://localhost:8080/",
          "height": 457
        },
        "outputId": "13d52861-e90b-4cef-cd44-521b909503fd"
      },
      "execution_count": null,
      "outputs": [
        {
          "output_type": "execute_result",
          "data": {
            "text/plain": [
              "   Scenario  Precision  Recall  F1 Score       AUC\n",
              "0         1        0.0     0.0       0.0  0.500000\n",
              "9        10        0.0     0.0       0.0  0.500000\n",
              "10       11        0.0     0.0       0.0  0.433848\n",
              "11       12        0.0     0.0       0.0  0.500000\n",
              "12       13        0.0     0.0       0.0  0.500000\n",
              "1         2        0.0     0.0       0.0  0.500000\n",
              "2         3        0.0     0.0       0.0  0.500000\n",
              "3         4        0.0     0.0       0.0  0.500000\n",
              "4         5        0.0     0.0       0.0  0.500000\n",
              "5         6        0.0     0.0       0.0  0.500000\n",
              "6         7        0.0     0.0       0.0  0.500000\n",
              "7         8        0.0     0.0       0.0  0.500000\n",
              "8         9        0.0     0.0       0.0  0.500000"
            ],
            "text/html": [
              "\n",
              "  <div id=\"df-e702c4e8-1367-4788-aaf6-6585bfb9e6c4\">\n",
              "    <div class=\"colab-df-container\">\n",
              "      <div>\n",
              "<style scoped>\n",
              "    .dataframe tbody tr th:only-of-type {\n",
              "        vertical-align: middle;\n",
              "    }\n",
              "\n",
              "    .dataframe tbody tr th {\n",
              "        vertical-align: top;\n",
              "    }\n",
              "\n",
              "    .dataframe thead th {\n",
              "        text-align: right;\n",
              "    }\n",
              "</style>\n",
              "<table border=\"1\" class=\"dataframe\">\n",
              "  <thead>\n",
              "    <tr style=\"text-align: right;\">\n",
              "      <th></th>\n",
              "      <th>Scenario</th>\n",
              "      <th>Precision</th>\n",
              "      <th>Recall</th>\n",
              "      <th>F1 Score</th>\n",
              "      <th>AUC</th>\n",
              "    </tr>\n",
              "  </thead>\n",
              "  <tbody>\n",
              "    <tr>\n",
              "      <th>0</th>\n",
              "      <td>1</td>\n",
              "      <td>0.0</td>\n",
              "      <td>0.0</td>\n",
              "      <td>0.0</td>\n",
              "      <td>0.500000</td>\n",
              "    </tr>\n",
              "    <tr>\n",
              "      <th>9</th>\n",
              "      <td>10</td>\n",
              "      <td>0.0</td>\n",
              "      <td>0.0</td>\n",
              "      <td>0.0</td>\n",
              "      <td>0.500000</td>\n",
              "    </tr>\n",
              "    <tr>\n",
              "      <th>10</th>\n",
              "      <td>11</td>\n",
              "      <td>0.0</td>\n",
              "      <td>0.0</td>\n",
              "      <td>0.0</td>\n",
              "      <td>0.433848</td>\n",
              "    </tr>\n",
              "    <tr>\n",
              "      <th>11</th>\n",
              "      <td>12</td>\n",
              "      <td>0.0</td>\n",
              "      <td>0.0</td>\n",
              "      <td>0.0</td>\n",
              "      <td>0.500000</td>\n",
              "    </tr>\n",
              "    <tr>\n",
              "      <th>12</th>\n",
              "      <td>13</td>\n",
              "      <td>0.0</td>\n",
              "      <td>0.0</td>\n",
              "      <td>0.0</td>\n",
              "      <td>0.500000</td>\n",
              "    </tr>\n",
              "    <tr>\n",
              "      <th>1</th>\n",
              "      <td>2</td>\n",
              "      <td>0.0</td>\n",
              "      <td>0.0</td>\n",
              "      <td>0.0</td>\n",
              "      <td>0.500000</td>\n",
              "    </tr>\n",
              "    <tr>\n",
              "      <th>2</th>\n",
              "      <td>3</td>\n",
              "      <td>0.0</td>\n",
              "      <td>0.0</td>\n",
              "      <td>0.0</td>\n",
              "      <td>0.500000</td>\n",
              "    </tr>\n",
              "    <tr>\n",
              "      <th>3</th>\n",
              "      <td>4</td>\n",
              "      <td>0.0</td>\n",
              "      <td>0.0</td>\n",
              "      <td>0.0</td>\n",
              "      <td>0.500000</td>\n",
              "    </tr>\n",
              "    <tr>\n",
              "      <th>4</th>\n",
              "      <td>5</td>\n",
              "      <td>0.0</td>\n",
              "      <td>0.0</td>\n",
              "      <td>0.0</td>\n",
              "      <td>0.500000</td>\n",
              "    </tr>\n",
              "    <tr>\n",
              "      <th>5</th>\n",
              "      <td>6</td>\n",
              "      <td>0.0</td>\n",
              "      <td>0.0</td>\n",
              "      <td>0.0</td>\n",
              "      <td>0.500000</td>\n",
              "    </tr>\n",
              "    <tr>\n",
              "      <th>6</th>\n",
              "      <td>7</td>\n",
              "      <td>0.0</td>\n",
              "      <td>0.0</td>\n",
              "      <td>0.0</td>\n",
              "      <td>0.500000</td>\n",
              "    </tr>\n",
              "    <tr>\n",
              "      <th>7</th>\n",
              "      <td>8</td>\n",
              "      <td>0.0</td>\n",
              "      <td>0.0</td>\n",
              "      <td>0.0</td>\n",
              "      <td>0.500000</td>\n",
              "    </tr>\n",
              "    <tr>\n",
              "      <th>8</th>\n",
              "      <td>9</td>\n",
              "      <td>0.0</td>\n",
              "      <td>0.0</td>\n",
              "      <td>0.0</td>\n",
              "      <td>0.500000</td>\n",
              "    </tr>\n",
              "  </tbody>\n",
              "</table>\n",
              "</div>\n",
              "      <button class=\"colab-df-convert\" onclick=\"convertToInteractive('df-e702c4e8-1367-4788-aaf6-6585bfb9e6c4')\"\n",
              "              title=\"Convert this dataframe to an interactive table.\"\n",
              "              style=\"display:none;\">\n",
              "        \n",
              "  <svg xmlns=\"http://www.w3.org/2000/svg\" height=\"24px\"viewBox=\"0 0 24 24\"\n",
              "       width=\"24px\">\n",
              "    <path d=\"M0 0h24v24H0V0z\" fill=\"none\"/>\n",
              "    <path d=\"M18.56 5.44l.94 2.06.94-2.06 2.06-.94-2.06-.94-.94-2.06-.94 2.06-2.06.94zm-11 1L8.5 8.5l.94-2.06 2.06-.94-2.06-.94L8.5 2.5l-.94 2.06-2.06.94zm10 10l.94 2.06.94-2.06 2.06-.94-2.06-.94-.94-2.06-.94 2.06-2.06.94z\"/><path d=\"M17.41 7.96l-1.37-1.37c-.4-.4-.92-.59-1.43-.59-.52 0-1.04.2-1.43.59L10.3 9.45l-7.72 7.72c-.78.78-.78 2.05 0 2.83L4 21.41c.39.39.9.59 1.41.59.51 0 1.02-.2 1.41-.59l7.78-7.78 2.81-2.81c.8-.78.8-2.07 0-2.86zM5.41 20L4 18.59l7.72-7.72 1.47 1.35L5.41 20z\"/>\n",
              "  </svg>\n",
              "      </button>\n",
              "      \n",
              "  <style>\n",
              "    .colab-df-container {\n",
              "      display:flex;\n",
              "      flex-wrap:wrap;\n",
              "      gap: 12px;\n",
              "    }\n",
              "\n",
              "    .colab-df-convert {\n",
              "      background-color: #E8F0FE;\n",
              "      border: none;\n",
              "      border-radius: 50%;\n",
              "      cursor: pointer;\n",
              "      display: none;\n",
              "      fill: #1967D2;\n",
              "      height: 32px;\n",
              "      padding: 0 0 0 0;\n",
              "      width: 32px;\n",
              "    }\n",
              "\n",
              "    .colab-df-convert:hover {\n",
              "      background-color: #E2EBFA;\n",
              "      box-shadow: 0px 1px 2px rgba(60, 64, 67, 0.3), 0px 1px 3px 1px rgba(60, 64, 67, 0.15);\n",
              "      fill: #174EA6;\n",
              "    }\n",
              "\n",
              "    [theme=dark] .colab-df-convert {\n",
              "      background-color: #3B4455;\n",
              "      fill: #D2E3FC;\n",
              "    }\n",
              "\n",
              "    [theme=dark] .colab-df-convert:hover {\n",
              "      background-color: #434B5C;\n",
              "      box-shadow: 0px 1px 3px 1px rgba(0, 0, 0, 0.15);\n",
              "      filter: drop-shadow(0px 1px 2px rgba(0, 0, 0, 0.3));\n",
              "      fill: #FFFFFF;\n",
              "    }\n",
              "  </style>\n",
              "\n",
              "      <script>\n",
              "        const buttonEl =\n",
              "          document.querySelector('#df-e702c4e8-1367-4788-aaf6-6585bfb9e6c4 button.colab-df-convert');\n",
              "        buttonEl.style.display =\n",
              "          google.colab.kernel.accessAllowed ? 'block' : 'none';\n",
              "\n",
              "        async function convertToInteractive(key) {\n",
              "          const element = document.querySelector('#df-e702c4e8-1367-4788-aaf6-6585bfb9e6c4');\n",
              "          const dataTable =\n",
              "            await google.colab.kernel.invokeFunction('convertToInteractive',\n",
              "                                                     [key], {});\n",
              "          if (!dataTable) return;\n",
              "\n",
              "          const docLinkHtml = 'Like what you see? Visit the ' +\n",
              "            '<a target=\"_blank\" href=https://colab.research.google.com/notebooks/data_table.ipynb>data table notebook</a>'\n",
              "            + ' to learn more about interactive tables.';\n",
              "          element.innerHTML = '';\n",
              "          dataTable['output_type'] = 'display_data';\n",
              "          await google.colab.output.renderOutput(dataTable, element);\n",
              "          const docLink = document.createElement('div');\n",
              "          docLink.innerHTML = docLinkHtml;\n",
              "          element.appendChild(docLink);\n",
              "        }\n",
              "      </script>\n",
              "    </div>\n",
              "  </div>\n",
              "  "
            ]
          },
          "metadata": {},
          "execution_count": 6
        }
      ]
    },
    {
      "cell_type": "code",
      "source": [
        "# precision recall graphs for each scenario\n",
        "graph = sns.FacetGrid(precision_recall_all, col = 'scenario', col_wrap = 3)\n",
        "graph.map(sns.lineplot, 'recall', 'precision')"
      ],
      "metadata": {
        "id": "YsM-wpItC2ZE",
        "colab": {
          "base_uri": "https://localhost:8080/",
          "height": 1000
        },
        "outputId": "199c18be-b568-4deb-e0b6-c2fc415f0dfa"
      },
      "execution_count": null,
      "outputs": [
        {
          "output_type": "execute_result",
          "data": {
            "text/plain": [
              "<seaborn.axisgrid.FacetGrid at 0x7f585cadb850>"
            ]
          },
          "metadata": {},
          "execution_count": 7
        },
        {
          "output_type": "display_data",
          "data": {
            "text/plain": [
              "<Figure size 900x1200 with 11 Axes>"
            ],
            "image/png": "[encoded data removed]"
          },
          "metadata": {}
        }
      ]
    },
    {
      "cell_type": "markdown",
      "source": [
        "##MTA19"
      ],
      "metadata": {
        "id": "aDGFJAatCgyO"
      }
    },
    {
      "cell_type": "code",
      "source": [
        "dfLEG = pd.read_csv('https://raw.githubusercontent.com/IvanLetteri/MTA-KDD-19/master/datasetLegitimate33featues.csv')\n",
        "dfMTA = pd.read_csv('https://raw.githubusercontent.com/IvanLetteri/MTA-KDD-19/master/datasetMalware33featues.csv')\n",
        "df = pd.concat([dfMTA, dfLEG])\n",
        "df.shape"
      ],
      "metadata": {
        "id": "z9o-myjiQo3S",
        "colab": {
          "base_uri": "https://localhost:8080/"
        },
        "outputId": "8d41a9aa-da90-471a-b3a0-fa908a19f9e8"
      },
      "execution_count": null,
      "outputs": [
        {
          "output_type": "execute_result",
          "data": {
            "text/plain": [
              "(64554, 34)"
            ]
          },
          "metadata": {},
          "execution_count": 2
        }
      ]
    },
    {
      "cell_type": "code",
      "source": [
        "df.head()"
      ],
      "metadata": {
        "colab": {
          "base_uri": "https://localhost:8080/",
          "height": 300
        },
        "id": "3BQwBDVXEqNX",
        "outputId": "680c04b6-0811-4a94-feff-f9f73eef1a41"
      },
      "execution_count": null,
      "outputs": [
        {
          "output_type": "execute_result",
          "data": {
            "text/plain": [
              "   FinFlagDist  SynFlagDist  RstFlagDist  PshFlagDist  AckFlagDist  DNSoverIP  \\\n",
              "0     0.478168     1.144246    -0.716937     0.671470     1.089129  -0.154516   \n",
              "1    -1.204652     0.316746    -0.716937     1.537622     1.135609  -0.154516   \n",
              "2    -1.204652    -0.216194    -0.716937    -0.457715    -0.848148  -0.154516   \n",
              "3     0.478168     0.636365    -0.716937     1.615480     1.274407  -0.154516   \n",
              "4     1.747840     1.867679     1.867097     0.903129     1.473227   6.778562   \n",
              "\n",
              "   TCPoverIP  UDPoverIP    MaxLen    MinLen  ...  NumPorts   FlowLEN  \\\n",
              "0   0.154711  -0.156991 -0.009901 -1.028609  ... -0.889691  0.479515   \n",
              "1   0.154711  -0.156991  0.722669  0.628640  ...  0.293799  1.301840   \n",
              "2   0.154711  -0.156991 -0.172436  0.628640  ... -0.889691 -0.452523   \n",
              "3   0.154711  -0.156991  0.722669  0.628640  ...  0.823293  1.416370   \n",
              "4  -7.182148   6.836627  0.485384  0.628640  ...  1.116241  0.868445   \n",
              "\n",
              "   FlowLENrx  repeated_pkts_ratio    NumCon  NumIPdst  Start_flow  \\\n",
              "0   0.284428             0.862578  5.253913  5.142702    0.562400   \n",
              "1  -0.036629            -0.908981 -0.190341 -0.194497    0.562400   \n",
              "2  -0.049479            -0.671509 -0.190341 -0.194497    0.562400   \n",
              "3  -0.042111            -1.626711 -0.190341 -0.194497    0.562400   \n",
              "4   0.678529             0.902818  5.253913  5.142781    0.563213   \n",
              "\n",
              "   DeltaTimeFlow  HTTPpkts  label  \n",
              "0      -0.052248  1.487787    1.0  \n",
              "1      -0.315281  1.786307    1.0  \n",
              "2      -1.197897  0.583908    1.0  \n",
              "3      -0.097754  1.805515    1.0  \n",
              "4       0.885878  1.614688    1.0  \n",
              "\n",
              "[5 rows x 34 columns]"
            ],
            "text/html": [
              "\n",
              "  <div id=\"df-16261323-d469-464c-9e50-bfee3a9c3a6b\">\n",
              "    <div class=\"colab-df-container\">\n",
              "      <div>\n",
              "<style scoped>\n",
              "    .dataframe tbody tr th:only-of-type {\n",
              "        vertical-align: middle;\n",
              "    }\n",
              "\n",
              "    .dataframe tbody tr th {\n",
              "        vertical-align: top;\n",
              "    }\n",
              "\n",
              "    .dataframe thead th {\n",
              "        text-align: right;\n",
              "    }\n",
              "</style>\n",
              "<table border=\"1\" class=\"dataframe\">\n",
              "  <thead>\n",
              "    <tr style=\"text-align: right;\">\n",
              "      <th></th>\n",
              "      <th>FinFlagDist</th>\n",
              "      <th>SynFlagDist</th>\n",
              "      <th>RstFlagDist</th>\n",
              "      <th>PshFlagDist</th>\n",
              "      <th>AckFlagDist</th>\n",
              "      <th>DNSoverIP</th>\n",
              "      <th>TCPoverIP</th>\n",
              "      <th>UDPoverIP</th>\n",
              "      <th>MaxLen</th>\n",
              "      <th>MinLen</th>\n",
              "      <th>...</th>\n",
              "      <th>NumPorts</th>\n",
              "      <th>FlowLEN</th>\n",
              "      <th>FlowLENrx</th>\n",
              "      <th>repeated_pkts_ratio</th>\n",
              "      <th>NumCon</th>\n",
              "      <th>NumIPdst</th>\n",
              "      <th>Start_flow</th>\n",
              "      <th>DeltaTimeFlow</th>\n",
              "      <th>HTTPpkts</th>\n",
              "      <th>label</th>\n",
              "    </tr>\n",
              "  </thead>\n",
              "  <tbody>\n",
              "    <tr>\n",
              "      <th>0</th>\n",
              "      <td>0.478168</td>\n",
              "      <td>1.144246</td>\n",
              "      <td>-0.716937</td>\n",
              "      <td>0.671470</td>\n",
              "      <td>1.089129</td>\n",
              "      <td>-0.154516</td>\n",
              "      <td>0.154711</td>\n",
              "      <td>-0.156991</td>\n",
              "      <td>-0.009901</td>\n",
              "      <td>-1.028609</td>\n",
              "      <td>...</td>\n",
              "      <td>-0.889691</td>\n",
              "      <td>0.479515</td>\n",
              "      <td>0.284428</td>\n",
              "      <td>0.862578</td>\n",
              "      <td>5.253913</td>\n",
              "      <td>5.142702</td>\n",
              "      <td>0.562400</td>\n",
              "      <td>-0.052248</td>\n",
              "      <td>1.487787</td>\n",
              "      <td>1.0</td>\n",
              "    </tr>\n",
              "    <tr>\n",
              "      <th>1</th>\n",
              "      <td>-1.204652</td>\n",
              "      <td>0.316746</td>\n",
              "      <td>-0.716937</td>\n",
              "      <td>1.537622</td>\n",
              "      <td>1.135609</td>\n",
              "      <td>-0.154516</td>\n",
              "      <td>0.154711</td>\n",
              "      <td>-0.156991</td>\n",
              "      <td>0.722669</td>\n",
              "      <td>0.628640</td>\n",
              "      <td>...</td>\n",
              "      <td>0.293799</td>\n",
              "      <td>1.301840</td>\n",
              "      <td>-0.036629</td>\n",
              "      <td>-0.908981</td>\n",
              "      <td>-0.190341</td>\n",
              "      <td>-0.194497</td>\n",
              "      <td>0.562400</td>\n",
              "      <td>-0.315281</td>\n",
              "      <td>1.786307</td>\n",
              "      <td>1.0</td>\n",
              "    </tr>\n",
              "    <tr>\n",
              "      <th>2</th>\n",
              "      <td>-1.204652</td>\n",
              "      <td>-0.216194</td>\n",
              "      <td>-0.716937</td>\n",
              "      <td>-0.457715</td>\n",
              "      <td>-0.848148</td>\n",
              "      <td>-0.154516</td>\n",
              "      <td>0.154711</td>\n",
              "      <td>-0.156991</td>\n",
              "      <td>-0.172436</td>\n",
              "      <td>0.628640</td>\n",
              "      <td>...</td>\n",
              "      <td>-0.889691</td>\n",
              "      <td>-0.452523</td>\n",
              "      <td>-0.049479</td>\n",
              "      <td>-0.671509</td>\n",
              "      <td>-0.190341</td>\n",
              "      <td>-0.194497</td>\n",
              "      <td>0.562400</td>\n",
              "      <td>-1.197897</td>\n",
              "      <td>0.583908</td>\n",
              "      <td>1.0</td>\n",
              "    </tr>\n",
              "    <tr>\n",
              "      <th>3</th>\n",
              "      <td>0.478168</td>\n",
              "      <td>0.636365</td>\n",
              "      <td>-0.716937</td>\n",
              "      <td>1.615480</td>\n",
              "      <td>1.274407</td>\n",
              "      <td>-0.154516</td>\n",
              "      <td>0.154711</td>\n",
              "      <td>-0.156991</td>\n",
              "      <td>0.722669</td>\n",
              "      <td>0.628640</td>\n",
              "      <td>...</td>\n",
              "      <td>0.823293</td>\n",
              "      <td>1.416370</td>\n",
              "      <td>-0.042111</td>\n",
              "      <td>-1.626711</td>\n",
              "      <td>-0.190341</td>\n",
              "      <td>-0.194497</td>\n",
              "      <td>0.562400</td>\n",
              "      <td>-0.097754</td>\n",
              "      <td>1.805515</td>\n",
              "      <td>1.0</td>\n",
              "    </tr>\n",
              "    <tr>\n",
              "      <th>4</th>\n",
              "      <td>1.747840</td>\n",
              "      <td>1.867679</td>\n",
              "      <td>1.867097</td>\n",
              "      <td>0.903129</td>\n",
              "      <td>1.473227</td>\n",
              "      <td>6.778562</td>\n",
              "      <td>-7.182148</td>\n",
              "      <td>6.836627</td>\n",
              "      <td>0.485384</td>\n",
              "      <td>0.628640</td>\n",
              "      <td>...</td>\n",
              "      <td>1.116241</td>\n",
              "      <td>0.868445</td>\n",
              "      <td>0.678529</td>\n",
              "      <td>0.902818</td>\n",
              "      <td>5.253913</td>\n",
              "      <td>5.142781</td>\n",
              "      <td>0.563213</td>\n",
              "      <td>0.885878</td>\n",
              "      <td>1.614688</td>\n",
              "      <td>1.0</td>\n",
              "    </tr>\n",
              "  </tbody>\n",
              "</table>\n",
              "<p>5 rows × 34 columns</p>\n",
              "</div>\n",
              "      <button class=\"colab-df-convert\" onclick=\"convertToInteractive('df-16261323-d469-464c-9e50-bfee3a9c3a6b')\"\n",
              "              title=\"Convert this dataframe to an interactive table.\"\n",
              "              style=\"display:none;\">\n",
              "        \n",
              "  <svg xmlns=\"http://www.w3.org/2000/svg\" height=\"24px\"viewBox=\"0 0 24 24\"\n",
              "       width=\"24px\">\n",
              "    <path d=\"M0 0h24v24H0V0z\" fill=\"none\"/>\n",
              "    <path d=\"M18.56 5.44l.94 2.06.94-2.06 2.06-.94-2.06-.94-.94-2.06-.94 2.06-2.06.94zm-11 1L8.5 8.5l.94-2.06 2.06-.94-2.06-.94L8.5 2.5l-.94 2.06-2.06.94zm10 10l.94 2.06.94-2.06 2.06-.94-2.06-.94-.94-2.06-.94 2.06-2.06.94z\"/><path d=\"M17.41 7.96l-1.37-1.37c-.4-.4-.92-.59-1.43-.59-.52 0-1.04.2-1.43.59L10.3 9.45l-7.72 7.72c-.78.78-.78 2.05 0 2.83L4 21.41c.39.39.9.59 1.41.59.51 0 1.02-.2 1.41-.59l7.78-7.78 2.81-2.81c.8-.78.8-2.07 0-2.86zM5.41 20L4 18.59l7.72-7.72 1.47 1.35L5.41 20z\"/>\n",
              "  </svg>\n",
              "      </button>\n",
              "      \n",
              "  <style>\n",
              "    .colab-df-container {\n",
              "      display:flex;\n",
              "      flex-wrap:wrap;\n",
              "      gap: 12px;\n",
              "    }\n",
              "\n",
              "    .colab-df-convert {\n",
              "      background-color: #E8F0FE;\n",
              "      border: none;\n",
              "      border-radius: 50%;\n",
              "      cursor: pointer;\n",
              "      display: none;\n",
              "      fill: #1967D2;\n",
              "      height: 32px;\n",
              "      padding: 0 0 0 0;\n",
              "      width: 32px;\n",
              "    }\n",
              "\n",
              "    .colab-df-convert:hover {\n",
              "      background-color: #E2EBFA;\n",
              "      box-shadow: 0px 1px 2px rgba(60, 64, 67, 0.3), 0px 1px 3px 1px rgba(60, 64, 67, 0.15);\n",
              "      fill: #174EA6;\n",
              "    }\n",
              "\n",
              "    [theme=dark] .colab-df-convert {\n",
              "      background-color: #3B4455;\n",
              "      fill: #D2E3FC;\n",
              "    }\n",
              "\n",
              "    [theme=dark] .colab-df-convert:hover {\n",
              "      background-color: #434B5C;\n",
              "      box-shadow: 0px 1px 3px 1px rgba(0, 0, 0, 0.15);\n",
              "      filter: drop-shadow(0px 1px 2px rgba(0, 0, 0, 0.3));\n",
              "      fill: #FFFFFF;\n",
              "    }\n",
              "  </style>\n",
              "\n",
              "      <script>\n",
              "        const buttonEl =\n",
              "          document.querySelector('#df-16261323-d469-464c-9e50-bfee3a9c3a6b button.colab-df-convert');\n",
              "        buttonEl.style.display =\n",
              "          google.colab.kernel.accessAllowed ? 'block' : 'none';\n",
              "\n",
              "        async function convertToInteractive(key) {\n",
              "          const element = document.querySelector('#df-16261323-d469-464c-9e50-bfee3a9c3a6b');\n",
              "          const dataTable =\n",
              "            await google.colab.kernel.invokeFunction('convertToInteractive',\n",
              "                                                     [key], {});\n",
              "          if (!dataTable) return;\n",
              "\n",
              "          const docLinkHtml = 'Like what you see? Visit the ' +\n",
              "            '<a target=\"_blank\" href=https://colab.research.google.com/notebooks/data_table.ipynb>data table notebook</a>'\n",
              "            + ' to learn more about interactive tables.';\n",
              "          element.innerHTML = '';\n",
              "          dataTable['output_type'] = 'display_data';\n",
              "          await google.colab.output.renderOutput(dataTable, element);\n",
              "          const docLink = document.createElement('div');\n",
              "          docLink.innerHTML = docLinkHtml;\n",
              "          element.appendChild(docLink);\n",
              "        }\n",
              "      </script>\n",
              "    </div>\n",
              "  </div>\n",
              "  "
            ]
          },
          "metadata": {},
          "execution_count": 3
        }
      ]
    },
    {
      "cell_type": "code",
      "source": [
        "# empty list and DataFrame to capture statistics\n",
        "results = [] \n",
        "precision_recall_all = pd.DataFrame()\n",
        "\n",
        "# split into input (X) and output (y) variables\n",
        "X = df.iloc[:,:33]\n",
        "y = df.iloc[:,33]\n",
        "\n",
        "# split into training (80%), validation (10%), and test (10%) sets\n",
        "rand_seed = 123\n",
        "X_train, X_rem, y_train, y_rem = train_test_split(X, y, train_size = 0.8,\n",
        "                                                  random_state = rand_seed,\n",
        "                                                  stratify = y)\n",
        "X_valid, X_test, y_valid, y_test = train_test_split(X_rem, y_rem, \n",
        "                                                    train_size = 0.5,\n",
        "                                                    random_state = rand_seed,\n",
        "                                                    stratify = y_rem)\n",
        "    \n",
        "# build NN model\n",
        "\n",
        "model = Sequential()\n",
        "model.add(Dense(12, input_dim = 33, activation = 'relu'))\n",
        "model.add(Dropout(0.1))\n",
        "model.add(Dense(8, activation = 'relu'))\n",
        "model.add(Dropout(0.1))\n",
        "model.add(Dense(8, activation='relu'))\n",
        "model.add(Dropout(0.1))\n",
        "model.add(Dense(1, activation = 'sigmoid'))\n",
        "\n",
        "#compile and fit the model\n",
        "model.compile(loss='binary_crossentropy', optimizer = 'adam',\n",
        "                  metrics=['accuracy'])\n",
        "model.fit(X_train, y_train, batch_size = 32, epochs = 2,\n",
        "              validation_data=(X_valid, y_valid))\n",
        "    \n",
        "#make predictions with model and print classification report\n",
        "predictions = (model.predict(X_test) > .5).astype(int)\n",
        "\n",
        "# calculate metrics for each model\n",
        "precision, recall, fscore, support = score(y_test, predictions, \n",
        "                                               average = 'binary')\n",
        "auc = roc_auc_score(y_test, predictions)\n",
        "accuracy = accuracy_score(y_test, predictions)\n",
        "\n",
        "\n",
        "# append metrics to results\n",
        "results.append(\n",
        "        {\n",
        "          'Accuracy': accuracy,\n",
        "          'Precision': precision,\n",
        "          'Recall': recall,\n",
        "          'F1 Score': fscore,\n",
        "          'AUC': auc\n",
        "        })\n",
        "    \n",
        "# write data for precision recall curves to csv\n",
        "cols = ['precision', 'recall', 'thresholds']\n",
        "precision_recall = precision_recall_curve(y_test, model.predict(X_test))\n",
        "precision_recall = pd.DataFrame(precision_recall, index = cols).transpose()\n",
        "precision_recall_all = precision_recall_all.append(precision_recall)\n",
        "\n",
        "print(results)"
      ],
      "metadata": {
        "id": "ASiHq_OtroyK",
        "colab": {
          "base_uri": "https://localhost:8080/"
        },
        "outputId": "0054ebff-b6ba-49ec-fe31-7494c8a96637"
      },
      "execution_count": null,
      "outputs": [
        {
          "output_type": "stream",
          "name": "stdout",
          "text": [
            "Epoch 1/2\n",
            "1614/1614 [==============================] - 17s 8ms/step - loss: 0.1982 - accuracy: 0.9217 - val_loss: 0.0462 - val_accuracy: 0.9859\n",
            "Epoch 2/2\n",
            "1614/1614 [==============================] - 8s 5ms/step - loss: 0.0673 - accuracy: 0.9805 - val_loss: 0.0348 - val_accuracy: 0.9907\n",
            "202/202 [==============================] - 0s 2ms/step\n",
            "202/202 [==============================] - 0s 2ms/step\n",
            "[{'Accuracy': 0.9882280049566295, 'Precision': 0.9830313488639632, 'Recall': 0.9950509461426492, 'F1 Score': 0.9890046296296297, 'AUC': 0.9877604945873789}]\n"
          ]
        },
        {
          "output_type": "stream",
          "name": "stderr",
          "text": [
            "<ipython-input-6-5545784b1c90>:60: FutureWarning: The frame.append method is deprecated and will be removed from pandas in a future version. Use pandas.concat instead.\n",
            "  precision_recall_all = precision_recall_all.append(precision_recall)\n"
          ]
        }
      ]
    },
    {
      "cell_type": "code",
      "source": [
        "# view results\n",
        "results_df = pd.DataFrame(results)\n",
        "results_df"
      ],
      "metadata": {
        "id": "3gYlKzTbDy66",
        "colab": {
          "base_uri": "https://localhost:8080/",
          "height": 81
        },
        "outputId": "d6685429-f4d2-4733-88d0-f5fbb0b3dc8f"
      },
      "execution_count": null,
      "outputs": [
        {
          "output_type": "execute_result",
          "data": {
            "text/plain": [
              "   Accuracy  Precision    Recall  F1 Score      AUC\n",
              "0  0.988228   0.983031  0.995051  0.989005  0.98776"
            ],
            "text/html": [
              "\n",
              "  <div id=\"df-8f679dd1-bb71-419d-80a2-3a6b915427d7\">\n",
              "    <div class=\"colab-df-container\">\n",
              "      <div>\n",
              "<style scoped>\n",
              "    .dataframe tbody tr th:only-of-type {\n",
              "        vertical-align: middle;\n",
              "    }\n",
              "\n",
              "    .dataframe tbody tr th {\n",
              "        vertical-align: top;\n",
              "    }\n",
              "\n",
              "    .dataframe thead th {\n",
              "        text-align: right;\n",
              "    }\n",
              "</style>\n",
              "<table border=\"1\" class=\"dataframe\">\n",
              "  <thead>\n",
              "    <tr style=\"text-align: right;\">\n",
              "      <th></th>\n",
              "      <th>Accuracy</th>\n",
              "      <th>Precision</th>\n",
              "      <th>Recall</th>\n",
              "      <th>F1 Score</th>\n",
              "      <th>AUC</th>\n",
              "    </tr>\n",
              "  </thead>\n",
              "  <tbody>\n",
              "    <tr>\n",
              "      <th>0</th>\n",
              "      <td>0.988228</td>\n",
              "      <td>0.983031</td>\n",
              "      <td>0.995051</td>\n",
              "      <td>0.989005</td>\n",
              "      <td>0.98776</td>\n",
              "    </tr>\n",
              "  </tbody>\n",
              "</table>\n",
              "</div>\n",
              "      <button class=\"colab-df-convert\" onclick=\"convertToInteractive('df-8f679dd1-bb71-419d-80a2-3a6b915427d7')\"\n",
              "              title=\"Convert this dataframe to an interactive table.\"\n",
              "              style=\"display:none;\">\n",
              "        \n",
              "  <svg xmlns=\"http://www.w3.org/2000/svg\" height=\"24px\"viewBox=\"0 0 24 24\"\n",
              "       width=\"24px\">\n",
              "    <path d=\"M0 0h24v24H0V0z\" fill=\"none\"/>\n",
              "    <path d=\"M18.56 5.44l.94 2.06.94-2.06 2.06-.94-2.06-.94-.94-2.06-.94 2.06-2.06.94zm-11 1L8.5 8.5l.94-2.06 2.06-.94-2.06-.94L8.5 2.5l-.94 2.06-2.06.94zm10 10l.94 2.06.94-2.06 2.06-.94-2.06-.94-.94-2.06-.94 2.06-2.06.94z\"/><path d=\"M17.41 7.96l-1.37-1.37c-.4-.4-.92-.59-1.43-.59-.52 0-1.04.2-1.43.59L10.3 9.45l-7.72 7.72c-.78.78-.78 2.05 0 2.83L4 21.41c.39.39.9.59 1.41.59.51 0 1.02-.2 1.41-.59l7.78-7.78 2.81-2.81c.8-.78.8-2.07 0-2.86zM5.41 20L4 18.59l7.72-7.72 1.47 1.35L5.41 20z\"/>\n",
              "  </svg>\n",
              "      </button>\n",
              "      \n",
              "  <style>\n",
              "    .colab-df-container {\n",
              "      display:flex;\n",
              "      flex-wrap:wrap;\n",
              "      gap: 12px;\n",
              "    }\n",
              "\n",
              "    .colab-df-convert {\n",
              "      background-color: #E8F0FE;\n",
              "      border: none;\n",
              "      border-radius: 50%;\n",
              "      cursor: pointer;\n",
              "      display: none;\n",
              "      fill: #1967D2;\n",
              "      height: 32px;\n",
              "      padding: 0 0 0 0;\n",
              "      width: 32px;\n",
              "    }\n",
              "\n",
              "    .colab-df-convert:hover {\n",
              "      background-color: #E2EBFA;\n",
              "      box-shadow: 0px 1px 2px rgba(60, 64, 67, 0.3), 0px 1px 3px 1px rgba(60, 64, 67, 0.15);\n",
              "      fill: #174EA6;\n",
              "    }\n",
              "\n",
              "    [theme=dark] .colab-df-convert {\n",
              "      background-color: #3B4455;\n",
              "      fill: #D2E3FC;\n",
              "    }\n",
              "\n",
              "    [theme=dark] .colab-df-convert:hover {\n",
              "      background-color: #434B5C;\n",
              "      box-shadow: 0px 1px 3px 1px rgba(0, 0, 0, 0.15);\n",
              "      filter: drop-shadow(0px 1px 2px rgba(0, 0, 0, 0.3));\n",
              "      fill: #FFFFFF;\n",
              "    }\n",
              "  </style>\n",
              "\n",
              "      <script>\n",
              "        const buttonEl =\n",
              "          document.querySelector('#df-8f679dd1-bb71-419d-80a2-3a6b915427d7 button.colab-df-convert');\n",
              "        buttonEl.style.display =\n",
              "          google.colab.kernel.accessAllowed ? 'block' : 'none';\n",
              "\n",
              "        async function convertToInteractive(key) {\n",
              "          const element = document.querySelector('#df-8f679dd1-bb71-419d-80a2-3a6b915427d7');\n",
              "          const dataTable =\n",
              "            await google.colab.kernel.invokeFunction('convertToInteractive',\n",
              "                                                     [key], {});\n",
              "          if (!dataTable) return;\n",
              "\n",
              "          const docLinkHtml = 'Like what you see? Visit the ' +\n",
              "            '<a target=\"_blank\" href=https://colab.research.google.com/notebooks/data_table.ipynb>data table notebook</a>'\n",
              "            + ' to learn more about interactive tables.';\n",
              "          element.innerHTML = '';\n",
              "          dataTable['output_type'] = 'display_data';\n",
              "          await google.colab.output.renderOutput(dataTable, element);\n",
              "          const docLink = document.createElement('div');\n",
              "          docLink.innerHTML = docLinkHtml;\n",
              "          element.appendChild(docLink);\n",
              "        }\n",
              "      </script>\n",
              "    </div>\n",
              "  </div>\n",
              "  "
            ]
          },
          "metadata": {},
          "execution_count": 7
        }
      ]
    },
    {
      "cell_type": "code",
      "source": [
        "precision_recall_all.head()"
      ],
      "metadata": {
        "id": "u_UIWmY7D1j2",
        "colab": {
          "base_uri": "https://localhost:8080/",
          "height": 206
        },
        "outputId": "dcf4a410-0067-4354-dafa-7f26897d1a35"
      },
      "execution_count": null,
      "outputs": [
        {
          "output_type": "execute_result",
          "data": {
            "text/plain": [
              "   precision  recall    thresholds\n",
              "0   0.532063     1.0  5.110520e-09\n",
              "1   0.532146     1.0  8.991938e-09\n",
              "2   0.532228     1.0  1.860763e-08\n",
              "3   0.532311     1.0  1.915521e-08\n",
              "4   0.532393     1.0  2.734438e-08"
            ],
            "text/html": [
              "\n",
              "  <div id=\"df-c8aa250f-1b3c-4bd5-9a31-b2a4b9539b1c\">\n",
              "    <div class=\"colab-df-container\">\n",
              "      <div>\n",
              "<style scoped>\n",
              "    .dataframe tbody tr th:only-of-type {\n",
              "        vertical-align: middle;\n",
              "    }\n",
              "\n",
              "    .dataframe tbody tr th {\n",
              "        vertical-align: top;\n",
              "    }\n",
              "\n",
              "    .dataframe thead th {\n",
              "        text-align: right;\n",
              "    }\n",
              "</style>\n",
              "<table border=\"1\" class=\"dataframe\">\n",
              "  <thead>\n",
              "    <tr style=\"text-align: right;\">\n",
              "      <th></th>\n",
              "      <th>precision</th>\n",
              "      <th>recall</th>\n",
              "      <th>thresholds</th>\n",
              "    </tr>\n",
              "  </thead>\n",
              "  <tbody>\n",
              "    <tr>\n",
              "      <th>0</th>\n",
              "      <td>0.532063</td>\n",
              "      <td>1.0</td>\n",
              "      <td>5.110520e-09</td>\n",
              "    </tr>\n",
              "    <tr>\n",
              "      <th>1</th>\n",
              "      <td>0.532146</td>\n",
              "      <td>1.0</td>\n",
              "      <td>8.991938e-09</td>\n",
              "    </tr>\n",
              "    <tr>\n",
              "      <th>2</th>\n",
              "      <td>0.532228</td>\n",
              "      <td>1.0</td>\n",
              "      <td>1.860763e-08</td>\n",
              "    </tr>\n",
              "    <tr>\n",
              "      <th>3</th>\n",
              "      <td>0.532311</td>\n",
              "      <td>1.0</td>\n",
              "      <td>1.915521e-08</td>\n",
              "    </tr>\n",
              "    <tr>\n",
              "      <th>4</th>\n",
              "      <td>0.532393</td>\n",
              "      <td>1.0</td>\n",
              "      <td>2.734438e-08</td>\n",
              "    </tr>\n",
              "  </tbody>\n",
              "</table>\n",
              "</div>\n",
              "      <button class=\"colab-df-convert\" onclick=\"convertToInteractive('df-c8aa250f-1b3c-4bd5-9a31-b2a4b9539b1c')\"\n",
              "              title=\"Convert this dataframe to an interactive table.\"\n",
              "              style=\"display:none;\">\n",
              "        \n",
              "  <svg xmlns=\"http://www.w3.org/2000/svg\" height=\"24px\"viewBox=\"0 0 24 24\"\n",
              "       width=\"24px\">\n",
              "    <path d=\"M0 0h24v24H0V0z\" fill=\"none\"/>\n",
              "    <path d=\"M18.56 5.44l.94 2.06.94-2.06 2.06-.94-2.06-.94-.94-2.06-.94 2.06-2.06.94zm-11 1L8.5 8.5l.94-2.06 2.06-.94-2.06-.94L8.5 2.5l-.94 2.06-2.06.94zm10 10l.94 2.06.94-2.06 2.06-.94-2.06-.94-.94-2.06-.94 2.06-2.06.94z\"/><path d=\"M17.41 7.96l-1.37-1.37c-.4-.4-.92-.59-1.43-.59-.52 0-1.04.2-1.43.59L10.3 9.45l-7.72 7.72c-.78.78-.78 2.05 0 2.83L4 21.41c.39.39.9.59 1.41.59.51 0 1.02-.2 1.41-.59l7.78-7.78 2.81-2.81c.8-.78.8-2.07 0-2.86zM5.41 20L4 18.59l7.72-7.72 1.47 1.35L5.41 20z\"/>\n",
              "  </svg>\n",
              "      </button>\n",
              "      \n",
              "  <style>\n",
              "    .colab-df-container {\n",
              "      display:flex;\n",
              "      flex-wrap:wrap;\n",
              "      gap: 12px;\n",
              "    }\n",
              "\n",
              "    .colab-df-convert {\n",
              "      background-color: #E8F0FE;\n",
              "      border: none;\n",
              "      border-radius: 50%;\n",
              "      cursor: pointer;\n",
              "      display: none;\n",
              "      fill: #1967D2;\n",
              "      height: 32px;\n",
              "      padding: 0 0 0 0;\n",
              "      width: 32px;\n",
              "    }\n",
              "\n",
              "    .colab-df-convert:hover {\n",
              "      background-color: #E2EBFA;\n",
              "      box-shadow: 0px 1px 2px rgba(60, 64, 67, 0.3), 0px 1px 3px 1px rgba(60, 64, 67, 0.15);\n",
              "      fill: #174EA6;\n",
              "    }\n",
              "\n",
              "    [theme=dark] .colab-df-convert {\n",
              "      background-color: #3B4455;\n",
              "      fill: #D2E3FC;\n",
              "    }\n",
              "\n",
              "    [theme=dark] .colab-df-convert:hover {\n",
              "      background-color: #434B5C;\n",
              "      box-shadow: 0px 1px 3px 1px rgba(0, 0, 0, 0.15);\n",
              "      filter: drop-shadow(0px 1px 2px rgba(0, 0, 0, 0.3));\n",
              "      fill: #FFFFFF;\n",
              "    }\n",
              "  </style>\n",
              "\n",
              "      <script>\n",
              "        const buttonEl =\n",
              "          document.querySelector('#df-c8aa250f-1b3c-4bd5-9a31-b2a4b9539b1c button.colab-df-convert');\n",
              "        buttonEl.style.display =\n",
              "          google.colab.kernel.accessAllowed ? 'block' : 'none';\n",
              "\n",
              "        async function convertToInteractive(key) {\n",
              "          const element = document.querySelector('#df-c8aa250f-1b3c-4bd5-9a31-b2a4b9539b1c');\n",
              "          const dataTable =\n",
              "            await google.colab.kernel.invokeFunction('convertToInteractive',\n",
              "                                                     [key], {});\n",
              "          if (!dataTable) return;\n",
              "\n",
              "          const docLinkHtml = 'Like what you see? Visit the ' +\n",
              "            '<a target=\"_blank\" href=https://colab.research.google.com/notebooks/data_table.ipynb>data table notebook</a>'\n",
              "            + ' to learn more about interactive tables.';\n",
              "          element.innerHTML = '';\n",
              "          dataTable['output_type'] = 'display_data';\n",
              "          await google.colab.output.renderOutput(dataTable, element);\n",
              "          const docLink = document.createElement('div');\n",
              "          docLink.innerHTML = docLinkHtml;\n",
              "          element.appendChild(docLink);\n",
              "        }\n",
              "      </script>\n",
              "    </div>\n",
              "  </div>\n",
              "  "
            ]
          },
          "metadata": {},
          "execution_count": 8
        }
      ]
    },
    {
      "cell_type": "code",
      "source": [
        "# precision recall graph\n",
        "sns.lineplot(data = precision_recall_all, x = 'recall', y = 'precision')"
      ],
      "metadata": {
        "id": "4hk5nf_sD28N",
        "colab": {
          "base_uri": "https://localhost:8080/",
          "height": 466
        },
        "outputId": "883820d1-52c4-497e-8296-73214ddc3a74"
      },
      "execution_count": null,
      "outputs": [
        {
          "output_type": "execute_result",
          "data": {
            "text/plain": [
              "<Axes: xlabel='recall', ylabel='precision'>"
            ]
          },
          "metadata": {},
          "execution_count": 9
        },
        {
          "output_type": "display_data",
          "data": {
            "text/plain": [
              "<Figure size 640x480 with 1 Axes>"
            ],
            "image/png": "[encoded data removed]"
          },
          "metadata": {}
        }
      ]
    }
  ]
}